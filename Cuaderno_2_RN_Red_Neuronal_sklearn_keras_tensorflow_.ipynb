{
  "nbformat": 4,
  "nbformat_minor": 0,
  "metadata": {
    "colab": {
      "provenance": [],
      "gpuType": "T4",
      "include_colab_link": true
    },
    "kernelspec": {
      "name": "python3",
      "display_name": "Python 3"
    },
    "accelerator": "GPU"
  },
  "cells": [
    {
      "cell_type": "markdown",
      "metadata": {
        "id": "view-in-github",
        "colab_type": "text"
      },
      "source": [
        "<a href=\"https://colab.research.google.com/github/jwar28/data-science-books/blob/main/Cuaderno_2_RN_Red_Neuronal_sklearn_keras_tensorflow_.ipynb\" target=\"_parent\"><img src=\"https://colab.research.google.com/assets/colab-badge.svg\" alt=\"Open In Colab\"/></a>"
      ]
    },
    {
      "cell_type": "markdown",
      "metadata": {
        "id": "vkHEHL9WLDeu"
      },
      "source": [
        "# Cuaderno 2. Compilación y entrenamiento de modelos en  Tensorflow  y Keras.\n",
        "\n",
        "![image](https://github.com/adiacla/bigdata/blob/master/Keras-vs-TensorFlow-vs-PyTorch.jpg?raw=true)\n",
        "\n",
        "**Keras**\n",
        "\n",
        "Keras es una librería escrita en Python, diseñada específicamente para hacer experimentos con redes neuronales. Permite crear prototipos rápidamente y de manera fácil, pues está pensada para que sea fácil de usar. Tienen una filosofía que la hace ideal para lo que estamos explicando sobre el restaurante:\n",
        "\n",
        "Tener la posibilidad de pasar de una idea a un resultado con el mínimo retraso posible es clave cuando haces investigación.\n",
        "\n",
        "**Pytorch**\n",
        "\n",
        "Pytorch es un framework de Python que permite el crecimiento rápido del Deep Learning, con una fuerte aceleración de la GPU. La característica principal de Pytorch es que utiliza grafos computacionales dinámicos. Todos los frameworks de Deep Learning utilizan un lenguaje, como Python en este caso, y un grafo computacional. Esto funciona así por cuestiones de eficiencia y optimización, pues un grafo computacional corre en paralelo en la GPU.\n",
        "\n",
        "\n",
        "**TensorFlow**\n",
        "\n",
        "Cuando una red neuronal se vuelve más compleja, llena de capas y parámetros, el proceso se vuelve mucho más complejo. Es aquí donde entra TensorFlow, una librería de computación numérica que computa gradientes automáticamente, esto quiere decir que está a un nivel más bajo y profundo que Keras o Pytorch.\n",
        "\n",
        "TensorFlow fue desarrollada por Google y la utilizan empresas como Airbnb, Dropbox, Uber y Snapchat. Aunque es muy popular es más recomendable para proyectos grandes y quizás más complejos, pues te da mucho control cuando estás construyendo redes neuronales.\n",
        "\n",
        "Si quieres aprender a diseñar redes neuronales y crear prototipos de manera rápida para entender cómo funcionan, una librería como Keras es ideal, pues incluso ésta utiliza TensorFlow por debajo para computar gradientes, pero sin que tengas que involucrarte con eso. Pytorch combina las dos cosas, pues te ayuda a construir las redes y computa los gradientes automáticamente.\n",
        "\n",
        "**Scikit-learn**\n",
        "\n",
        "Otra librería ideal para diseñar y entrenar redes neuronales es Scikit-learn, que también está escrita en Python y que utilizan empresas como Spotify, Booking y Evernote. Emplea algoritmos de clasificación (determina a qué categoría pertenece un objeto), regresión (asocia atributos de valor continuo a objetos) y agrupamiento (agrupa objetos similares en conjuntos); y opera de manera simultánea con librerías como NumPy y SciPy.\n",
        "\n",
        "**Librerías de Python relacionadas con Redes Neuronales**\n",
        "\n",
        "![imagen](https://forum.huawei.com/enterprise/api/file/v1/small/thread/667232069236953088.png?appid=esc_es)"
      ]
    },
    {
      "cell_type": "markdown",
      "source": [
        "#Tensorflow\n",
        "\n",
        "**Instalación y Configuración**\n",
        "Antes de comenzar, asegúrate de tener Python instalado en tu máquina. Para instalar TensorFlow, ejecuta el siguiente comando:\n",
        "\n",
        "      pip install tensorflow\n",
        "\n",
        "\n",
        "Si está usando google colab ya tienes instalado tensorflow y keras, si estas usando tu ambiente propio, recomendamos instalar TensorFlow en un entorno virtual para evitar conflictos con otras librerías. Para crear y activar un entorno virtual, usa:\n",
        "\n",
        "    # Crear entorno virtual\n",
        "    python -m venv tf_env\n",
        "\n",
        "    # Activar el entorno (Windows)\n",
        "    tf_env\\Scripts\\activate\n",
        "\n",
        "    # Activar el entorno (Mac/Linux)\n",
        "    source tf_env/bin/activate\n",
        "\n",
        "TensorFlow opera principalmente con arreglos multidimensionales llamados tensores, que son la base de cualquier modelo de aprendizaje automático. Estos tensores son similares a matrices y arrays de bibliotecas como NumPy, pero ofrecen capacidades adicionales, como la ejecución en hardware especializado como GPU.\n",
        "\n",
        "Un tensor tiene dos atributos principales que debemos comprender:\n",
        "\n",
        "* shape: Describe la dimensión del tensor a lo largo de cada uno de sus ejes.\n",
        "* dtype: Especifica el tipo de datos que contiene, como float32, int32, etc.\n",
        "\n",
        "Vamos a ir trabajando con tensorflow para crear y trabajar con tensores"
      ],
      "metadata": {
        "id": "tFgyWZnOA1Pv"
      }
    },
    {
      "cell_type": "code",
      "source": [
        "!python -V"
      ],
      "metadata": {
        "colab": {
          "base_uri": "https://localhost:8080/"
        },
        "id": "rFyhwzynhk6I",
        "outputId": "99c55055-6743-4903-e434-3e15d4dc3e46"
      },
      "execution_count": 1,
      "outputs": [
        {
          "output_type": "stream",
          "name": "stdout",
          "text": [
            "Python 3.11.11\n"
          ]
        }
      ]
    },
    {
      "cell_type": "code",
      "source": [
        "import tensorflow as tf\n",
        "print(tf.__version__)\n",
        "#Es importante usar la misma versión del tensorflow cuando se entrena y se despliegua."
      ],
      "metadata": {
        "id": "bwdy3k1vDAQX",
        "colab": {
          "base_uri": "https://localhost:8080/"
        },
        "outputId": "042d9488-e1c9-498f-bff0-e8c71352ef56"
      },
      "execution_count": 2,
      "outputs": [
        {
          "output_type": "stream",
          "name": "stdout",
          "text": [
            "2.18.0\n"
          ]
        }
      ]
    },
    {
      "cell_type": "markdown",
      "source": [
        "##Operaciones Básicas con TensorFlow\n",
        "\n",
        "Una de las principales características de TensorFlow es su capacidad para realizar cálculos con tensores, que son estructuras de datos similares a matrices o arrays. A continuación, veremos cómo crear tensores básicos y realizar operaciones matemáticas:"
      ],
      "metadata": {
        "id": "cTXKB0OzENbA"
      }
    },
    {
      "cell_type": "code",
      "source": [
        "import tensorflow as tf\n",
        "\n",
        "# Crear un tensor bidimensional\n",
        "x = tf.constant([[1., 2., 3.],\n",
        "                 [4., 5., 6.]])\n",
        "\n",
        "# Mostrar el tensor, su forma y tipo de datos\n",
        "print(\"Tensor:\\n\", x)\n",
        "print(\"Forma:\", x.shape)\n",
        "print(\"Tipo de datos:\", x.dtype)\n",
        "print(\"Tipo de tensor\", type(x))"
      ],
      "metadata": {
        "id": "q_MFj7rEBGEc",
        "colab": {
          "base_uri": "https://localhost:8080/"
        },
        "outputId": "1ea429bb-fbd0-4701-8a8a-f011a1eece19"
      },
      "execution_count": 3,
      "outputs": [
        {
          "output_type": "stream",
          "name": "stdout",
          "text": [
            "Tensor:\n",
            " tf.Tensor(\n",
            "[[1. 2. 3.]\n",
            " [4. 5. 6.]], shape=(2, 3), dtype=float32)\n",
            "Forma: (2, 3)\n",
            "Tipo de datos: <dtype: 'float32'>\n",
            "Tipo de tensor <class 'tensorflow.python.framework.ops.EagerTensor'>\n"
          ]
        }
      ]
    },
    {
      "cell_type": "markdown",
      "source": [
        "##Operaciones Matemáticas con Tensores\n",
        "\n",
        "TensorFlow permite realizar operaciones estándar sobre tensores, además de operaciones especializadas en aprendizaje automático. Veamos algunos ejemplos básicos:"
      ],
      "metadata": {
        "id": "h6ytGS7EDbUt"
      }
    },
    {
      "cell_type": "code",
      "source": [
        "# Operaciones aritméticas\n",
        "print(\"Suma de tensores:\\n\", x + x)\n",
        "print(\"-\"*80,\"\\n\")\n"
      ],
      "metadata": {
        "id": "96syVTQGDbip",
        "colab": {
          "base_uri": "https://localhost:8080/"
        },
        "outputId": "8e6b3950-2619-44fd-e7e1-2ad6b588be95"
      },
      "execution_count": 6,
      "outputs": [
        {
          "output_type": "stream",
          "name": "stdout",
          "text": [
            "Suma de tensores:\n",
            " tf.Tensor(\n",
            "[[ 2.  4.  6.]\n",
            " [ 8. 10. 12.]], shape=(2, 3), dtype=float32)\n",
            "-------------------------------------------------------------------------------- \n",
            "\n"
          ]
        }
      ]
    },
    {
      "cell_type": "code",
      "source": [
        "print(\"Resta de tensores:\\n\", x - x)\n",
        "print(\"-\"*80,\"\\n\")\n"
      ],
      "metadata": {
        "colab": {
          "base_uri": "https://localhost:8080/"
        },
        "id": "6ecj9f_2lWmX",
        "outputId": "71bff517-8941-43c1-edee-6342adf3deb5"
      },
      "execution_count": 7,
      "outputs": [
        {
          "output_type": "stream",
          "name": "stdout",
          "text": [
            "Resta de tensores:\n",
            " tf.Tensor(\n",
            "[[0. 0. 0.]\n",
            " [0. 0. 0.]], shape=(2, 3), dtype=float32)\n",
            "-------------------------------------------------------------------------------- \n",
            "\n"
          ]
        }
      ]
    },
    {
      "cell_type": "code",
      "source": [
        "print(\"Multiplicación por escalar:\\n\", 5 * x,\"\\n\")\n",
        "print(\"-\"*80,\"\\n\")\n"
      ],
      "metadata": {
        "colab": {
          "base_uri": "https://localhost:8080/"
        },
        "id": "kOfUaRp_lcPm",
        "outputId": "4e11172a-2f29-46f1-8950-bc4826e8b0ec"
      },
      "execution_count": 8,
      "outputs": [
        {
          "output_type": "stream",
          "name": "stdout",
          "text": [
            "Multiplicación por escalar:\n",
            " tf.Tensor(\n",
            "[[ 5. 10. 15.]\n",
            " [20. 25. 30.]], shape=(2, 3), dtype=float32) \n",
            "\n",
            "-------------------------------------------------------------------------------- \n",
            "\n"
          ]
        }
      ]
    },
    {
      "cell_type": "code",
      "source": [
        "# Producto matricial (operador '@')\n",
        "resultado = x @ tf.transpose(x)\n",
        "print(\"Producto matricial:\\n\", resultado,\"\\n\")\n",
        "print(\"-\"*80,\"\\n\")\n"
      ],
      "metadata": {
        "colab": {
          "base_uri": "https://localhost:8080/"
        },
        "id": "psYa90I_ljAg",
        "outputId": "cfaede81-606f-42c3-9a6e-7c37336b6be9"
      },
      "execution_count": 9,
      "outputs": [
        {
          "output_type": "stream",
          "name": "stdout",
          "text": [
            "Producto matricial:\n",
            " tf.Tensor(\n",
            "[[14. 32.]\n",
            " [32. 77.]], shape=(2, 2), dtype=float32) \n",
            "\n",
            "-------------------------------------------------------------------------------- \n",
            "\n"
          ]
        }
      ]
    },
    {
      "cell_type": "code",
      "source": [
        "# Concatenación de tensores\n",
        "concatenado = tf.concat([x, x, x], axis=0)\n",
        "print(\"Tensor concatenado:\\n\", concatenado,\"\\n\")\n",
        "print(\"-\"*80,\"\\n\")\n"
      ],
      "metadata": {
        "colab": {
          "base_uri": "https://localhost:8080/"
        },
        "id": "XJ6-RDijlrF5",
        "outputId": "60b2e336-a44d-435e-c38c-04f4a329a6cf"
      },
      "execution_count": 10,
      "outputs": [
        {
          "output_type": "stream",
          "name": "stdout",
          "text": [
            "Tensor concatenado:\n",
            " tf.Tensor(\n",
            "[[1. 2. 3.]\n",
            " [4. 5. 6.]\n",
            " [1. 2. 3.]\n",
            " [4. 5. 6.]\n",
            " [1. 2. 3.]\n",
            " [4. 5. 6.]], shape=(6, 3), dtype=float32) \n",
            "\n",
            "-------------------------------------------------------------------------------- \n",
            "\n"
          ]
        }
      ]
    },
    {
      "cell_type": "code",
      "source": [
        "# Aplicación de una función matemática: Softmax\n",
        "'''\n",
        "- softmax: This variable will store the result of the Softmax calculation.\n",
        "- tf.nn.softmax: This is the TensorFlow function that implements the Softmax calculation.\n",
        "- axis=-1: This argument specifies that the Softmax calculation\n",
        "should be performed along the last axis (columns) of the tensor x\n",
        "'''\n",
        "softmax = tf.nn.softmax(x, axis=-1)\n",
        "print(\"Softmax aplicado al tensor:\\n\", softmax,\"\\n\")\n",
        "print(\"-\"*80,\"\\n\")"
      ],
      "metadata": {
        "colab": {
          "base_uri": "https://localhost:8080/"
        },
        "id": "UXY1W6MqlyqB",
        "outputId": "beec929d-3ba8-475c-a07e-fb71b3dd97b6"
      },
      "execution_count": 12,
      "outputs": [
        {
          "output_type": "stream",
          "name": "stdout",
          "text": [
            "Softmax aplicado al tensor:\n",
            " tf.Tensor(\n",
            "[[0.09003057 0.24472848 0.6652409 ]\n",
            " [0.09003057 0.24472848 0.6652409 ]], shape=(2, 3), dtype=float32) \n",
            "\n",
            "-------------------------------------------------------------------------------- \n",
            "\n"
          ]
        }
      ]
    },
    {
      "cell_type": "code",
      "source": [
        "# Reducción: suma total de los elementos del tensor\n",
        "suma_total = tf.reduce_sum(x)\n",
        "print(\"Suma total del tensor:\", suma_total.numpy())\n",
        "suma_total"
      ],
      "metadata": {
        "colab": {
          "base_uri": "https://localhost:8080/"
        },
        "id": "yqp0UP8fmBUI",
        "outputId": "17694cc2-82df-4922-c8b1-8e1c384e3d3e"
      },
      "execution_count": 14,
      "outputs": [
        {
          "output_type": "stream",
          "name": "stdout",
          "text": [
            "Suma total del tensor: 21.0\n"
          ]
        },
        {
          "output_type": "execute_result",
          "data": {
            "text/plain": [
              "<tf.Tensor: shape=(), dtype=float32, numpy=21.0>"
            ]
          },
          "metadata": {},
          "execution_count": 14
        }
      ]
    },
    {
      "cell_type": "markdown",
      "source": [
        "##Ejecución en GPU\n",
        "TensorFlow puede aprovechar GPUs para acelerar los cálculos.\n",
        "\n",
        "Si está usando Google Colab, vaya a menu a ***Entorno de ejecución ***y luego ingrese a ***Cambiar tipo de Entorno de Ejecución*** y luego seleccione ***T4 GPU ***. Debe ejecutar todas las celdas anteriores.\n",
        "\n",
        "\n",
        "Verifica si tu sistema está utilizando una GPU con este código:\n"
      ],
      "metadata": {
        "id": "wKgCfv4VBovI"
      }
    },
    {
      "cell_type": "code",
      "source": [
        "if tf.config.list_physical_devices('GPU'):\n",
        "    print(\"TensorFlow está utilizando la GPU\")\n",
        "else:\n",
        "    print(\"TensorFlow no está utilizando la GPU\")"
      ],
      "metadata": {
        "id": "ztL4azmsGivX",
        "colab": {
          "base_uri": "https://localhost:8080/"
        },
        "outputId": "827a2b7a-1b7f-46b4-9fe4-d7728fd62046"
      },
      "execution_count": 15,
      "outputs": [
        {
          "output_type": "stream",
          "name": "stdout",
          "text": [
            "TensorFlow está utilizando la GPU\n"
          ]
        }
      ]
    },
    {
      "cell_type": "markdown",
      "source": [
        "##Variables en TensorFlow\n",
        "Mientras que los tensores normales son inmutables, las variables (tf.Variable) permiten almacenar valores que se pueden modificar, como los pesos de un modelo. Aquí tienes un ejemplo:"
      ],
      "metadata": {
        "id": "O5Dl52ltHchh"
      }
    },
    {
      "cell_type": "code",
      "source": [
        "# Crear una variable\n",
        "var = tf.Variable([0.0, 0.0, 0.0])\n",
        "\n",
        "# Asignar nuevos valores\n",
        "var.assign([1, 2, 3])\n",
        "print(\"Variable actualizada:\", var.numpy())\n",
        "\n",
        "# Incrementar valores de la variable\n",
        "var.assign_add([1, 1, 1])\n",
        "print(\"Variable incrementada:\", var.numpy())"
      ],
      "metadata": {
        "id": "PO5igk0YHcz_",
        "colab": {
          "base_uri": "https://localhost:8080/"
        },
        "outputId": "704b61ad-646d-4be7-8acc-068428bb61a6"
      },
      "execution_count": 16,
      "outputs": [
        {
          "output_type": "stream",
          "name": "stdout",
          "text": [
            "Variable actualizada: [1. 2. 3.]\n",
            "Variable incrementada: [2. 3. 4.]\n"
          ]
        }
      ]
    },
    {
      "cell_type": "markdown",
      "source": [
        "##Diferenciación Automática\n",
        "La diferenciación automática permite calcular derivadas de manera eficiente. Este mecanismo es esencial para entrenar modelos utilizando optimizadores como el descenso de gradiente."
      ],
      "metadata": {
        "id": "ZcG_YOstH5w3"
      }
    },
    {
      "cell_type": "code",
      "source": [
        "# Definir una función\n",
        "x = tf.Variable(2.0)\n",
        "\n",
        "def f(x):\n",
        "    return 3*x**3 + 2*x**2-4*x - 2\n",
        "\n",
        "# Calcular la derivada usando GradientTape\n",
        "with tf.GradientTape() as tape:\n",
        "    y = f(x)\n",
        "\n",
        "# Gradiente de y respecto a x\n",
        "g_x = tape.gradient(y, x)\n",
        "print(\"Derivada de f(x):\", g_x.numpy())\n"
      ],
      "metadata": {
        "id": "bFLtEmkGH5-V",
        "colab": {
          "base_uri": "https://localhost:8080/"
        },
        "outputId": "5331a344-0f3b-4d59-ec5b-d542712acf9e"
      },
      "execution_count": 17,
      "outputs": [
        {
          "output_type": "stream",
          "name": "stdout",
          "text": [
            "Derivada de f(x): 40.0\n"
          ]
        }
      ]
    },
    {
      "cell_type": "markdown",
      "source": [
        "##Grafos y funciones\n",
        "\n",
        "En el contexto de TensorFlow, graph se asocia más comúnmente con gráfos porque describe una secuencia de operaciones que puede ser visualizada o ejecutada. Sin embargo, no se refiere específicamente a una imagen o gráficas de matplotlib o seaborn.\n",
        "\n",
        "* @tf.function:\n",
        "\n",
        "Este decorador convierte una función de Python en un gráfo computacional de TensorFlow (un Graph).\n",
        "\n",
        "Las funciones convertidas con @tf.function son más eficientes porque optimizan las operaciones y permiten ejecutar cálculos en diferentes dispositivos como CPUs, GPUs o TPUs.\n",
        "\n",
        "* print('Tracing.\\n'):\n",
        "\n",
        "Este mensaje se imprime solo cuando se crea o se \"traza\" el gráfo computacional por primera vez.\n",
        "Una vez que el gráfo está trazado, las ejecuciones posteriores de la función no vuelven a imprimir el mensaje porque ya se usa el gráfo optimizado.\n",
        "\n",
        "\n",
        "* return tf.reduce_sum(x):\n",
        "\n",
        "Calcula la suma de todos los elementos del tensor x.\n",
        "\n",
        "tf.reduce_sum es una operación que \"reduce\" un tensor a un solo valor al aplicar la suma en todas las dimensiones.\n",
        "\n",
        "**Tracing**\n",
        "Cuando se llama por primera vez a una función decorada con @tf.function, TensorFlow analiza (\"traza\") el código para crear un gráfico computacional.\n",
        "\n",
        "Este gráfico permite realizar optimizaciones y ejecutar la función de manera más eficiente."
      ],
      "metadata": {
        "id": "FBupAC6nE-70"
      }
    },
    {
      "cell_type": "code",
      "source": [
        "@tf.function\n",
        "def my_func(x):\n",
        "  print('Tracing.\\n')\n",
        "  return tf.reduce_sum(x)"
      ],
      "metadata": {
        "id": "fRxMvI7hF9SU"
      },
      "execution_count": 18,
      "outputs": []
    },
    {
      "cell_type": "code",
      "source": [
        "x = tf.constant([1, 2, 3])\n",
        "my_func(x)"
      ],
      "metadata": {
        "id": "Zx5ZOhLRGLki",
        "colab": {
          "base_uri": "https://localhost:8080/"
        },
        "outputId": "df5713b0-51a5-458b-8416-415c49b48a23"
      },
      "execution_count": 19,
      "outputs": [
        {
          "output_type": "stream",
          "name": "stdout",
          "text": [
            "Tracing.\n",
            "\n"
          ]
        },
        {
          "output_type": "execute_result",
          "data": {
            "text/plain": [
              "<tf.Tensor: shape=(), dtype=int32, numpy=6>"
            ]
          },
          "metadata": {},
          "execution_count": 19
        }
      ]
    },
    {
      "cell_type": "code",
      "source": [
        "my_func(x).numpy()"
      ],
      "metadata": {
        "colab": {
          "base_uri": "https://localhost:8080/"
        },
        "id": "WhwkmT94pl6m",
        "outputId": "adcfd712-e0a8-4d0b-8799-97f8ae353b4b"
      },
      "execution_count": 20,
      "outputs": [
        {
          "output_type": "execute_result",
          "data": {
            "text/plain": [
              "6"
            ]
          },
          "metadata": {},
          "execution_count": 20
        }
      ]
    },
    {
      "cell_type": "markdown",
      "source": [
        "En llamadas posteriores, TensorFlow solo ejecuta el gráfico optimizado, omitiendo cualquier paso que no sea de TensorFlow. A continuación, observa que my_func no imprime el seguimiento, ya que print es una función de Python, no una función de TensorFlow."
      ],
      "metadata": {
        "id": "JOe_FOvUGMkM"
      }
    },
    {
      "cell_type": "code",
      "source": [
        "x = tf.constant([10, 9, 8])\n",
        "my_func(x)"
      ],
      "metadata": {
        "id": "DXQCpFvFGaP9",
        "colab": {
          "base_uri": "https://localhost:8080/"
        },
        "outputId": "c00a7d98-772c-418d-e82e-bccc96d75550"
      },
      "execution_count": 21,
      "outputs": [
        {
          "output_type": "execute_result",
          "data": {
            "text/plain": [
              "<tf.Tensor: shape=(), dtype=int32, numpy=27>"
            ]
          },
          "metadata": {},
          "execution_count": 21
        }
      ]
    },
    {
      "cell_type": "code",
      "source": [
        "my_func(x).numpy()"
      ],
      "metadata": {
        "colab": {
          "base_uri": "https://localhost:8080/"
        },
        "id": "ieS_bEnep8mQ",
        "outputId": "48294498-68dd-4ad9-d245-60877ce34c71"
      },
      "execution_count": 22,
      "outputs": [
        {
          "output_type": "execute_result",
          "data": {
            "text/plain": [
              "27"
            ]
          },
          "metadata": {},
          "execution_count": 22
        }
      ]
    },
    {
      "cell_type": "markdown",
      "source": [
        "Un gráfo puede no ser reutilizable para entradas con una firma diferente (forma y tipo de datos), por lo que se genera un nuevo gráfo en su lugar."
      ],
      "metadata": {
        "id": "2z5YbIC6HGza"
      }
    },
    {
      "cell_type": "code",
      "source": [
        "x = tf.constant([10.0, 9.1, 8.2], dtype=tf.float32)\n",
        "my_func(x)"
      ],
      "metadata": {
        "id": "ofg04kW-HH_B",
        "colab": {
          "base_uri": "https://localhost:8080/"
        },
        "outputId": "f0f99b36-6598-485f-ef29-d2c5776f12b3"
      },
      "execution_count": 23,
      "outputs": [
        {
          "output_type": "stream",
          "name": "stdout",
          "text": [
            "Tracing.\n",
            "\n"
          ]
        },
        {
          "output_type": "execute_result",
          "data": {
            "text/plain": [
              "<tf.Tensor: shape=(), dtype=float32, numpy=27.299999237060547>"
            ]
          },
          "metadata": {},
          "execution_count": 23
        }
      ]
    },
    {
      "cell_type": "code",
      "source": [
        "my_func(x).numpy()"
      ],
      "metadata": {
        "colab": {
          "base_uri": "https://localhost:8080/"
        },
        "id": "2g84yVFMqL0w",
        "outputId": "52abfa62-a8fc-4393-e9b3-42f9f652d414"
      },
      "execution_count": 24,
      "outputs": [
        {
          "output_type": "execute_result",
          "data": {
            "text/plain": [
              "27.3"
            ]
          },
          "metadata": {},
          "execution_count": 24
        }
      ]
    },
    {
      "cell_type": "markdown",
      "source": [
        "Estos gráfos capturados ofrecen dos beneficios:\n",
        "\n",
        "1. En muchos casos, proporcionan una aceleración significativa en la ejecución (aunque no en este ejemplo trivial).\n",
        "\n",
        "2. Puedes exportar estos gráfo, utilizando tf.saved_model, para ejecutarlos en otros sistemas, como un servidor o un dispositivo móvil, sin necesidad de instalar Python."
      ],
      "metadata": {
        "id": "Mvd9Vez2H1E_"
      }
    },
    {
      "cell_type": "markdown",
      "source": [
        "##Módulos, capas y modelos.\n",
        "\n",
        "tf.Module es una clase para administrar sus objetos tf.Variable y los objetos tf.function que operan en ellos. La clase tf.Module es necesaria para admitir dos funciones importantes:\n",
        "\n",
        "\n",
        "Puede guardar y restaurar los valores de sus variables usando tf.train.Checkpoint . Esto es útil durante el entrenamiento, ya que es rápido guardar y restaurar el estado de un modelo.\n",
        "Puede importar y exportar los valores de tf.Variable y los gráficos de tf.function usando tf.saved_model . Esto le permite ejecutar su modelo independientemente del programa de Python que lo creó.\n",
        "\n",
        "Aquí hay un ejemplo completo exportando un objeto tf.Module simple"
      ],
      "metadata": {
        "id": "WgL98cHwIh1e"
      }
    },
    {
      "cell_type": "code",
      "source": [
        "class MyModule(tf.Module):\n",
        "    \"\"\"\n",
        "    Una clase que extiende `tf.Module` para demostrar cómo gestionar variables y funciones en TensorFlow.\n",
        "\n",
        "    Atributos:\n",
        "        weight (tf.Variable): Una variable que almacena un valor inicializado durante la creación del módulo.\n",
        "\n",
        "    Métodos:\n",
        "        multiply(x):\n",
        "            Realiza una multiplicación entre la entrada `x` y la variable `weight`.\n",
        "    \"\"\"\n",
        "\n",
        "    def __init__(self, value):\n",
        "        \"\"\"\n",
        "        Constructor de la clase MyModule.\n",
        "\n",
        "        Args:\n",
        "            value (float o int): Valor inicial para la variable `weight`.\n",
        "        \"\"\"\n",
        "        self.weight = tf.Variable(value)\n",
        "\n",
        "    @tf.function\n",
        "    def multiply(self, x):\n",
        "        \"\"\"\n",
        "        Multiplica la entrada `x` por la variable `weight`.\n",
        "\n",
        "        Args:\n",
        "            x (tf.Tensor): Un tensor que representa los valores de entrada.\n",
        "\n",
        "        Returns:\n",
        "            tf.Tensor: El resultado de la multiplicación de `x` y `weight`.\n",
        "        \"\"\"\n",
        "        return x * self.weight\n"
      ],
      "metadata": {
        "id": "saciEDFfIoBk"
      },
      "execution_count": 25,
      "outputs": []
    },
    {
      "cell_type": "markdown",
      "source": [
        " El siguiente código ejecuta una operación de multiplicación elemento por elemento entre el tensor de entrada y el valor almacenado en la variable weight del módulo. En este caso, el resultado es el tensor [3, 6, 9].\n",
        "\n",
        "1. Creamos una instancia de la clase MyModule con el valor inicial de weight igual a 3. Esto significa que el atributo weight será una variable de TensorFlow (tf.Variable) con un valor inicial de 3.\n",
        "\n",
        "2. Llamamos al método multiply de la instancia mod pasando un tensor constante de valores [1, 2, 3].\n",
        "\n"
      ],
      "metadata": {
        "id": "XQ1IYaKzJZeG"
      }
    },
    {
      "cell_type": "code",
      "source": [
        "mod = MyModule(3)\n",
        "mod.multiply(tf.constant([1, 2, 3]))"
      ],
      "metadata": {
        "id": "KlW3lUBBJQrb",
        "colab": {
          "base_uri": "https://localhost:8080/"
        },
        "outputId": "74f783b3-73e7-41f7-d894-ba8afda2d408"
      },
      "execution_count": 26,
      "outputs": [
        {
          "output_type": "execute_result",
          "data": {
            "text/plain": [
              "<tf.Tensor: shape=(3,), dtype=int32, numpy=array([3, 6, 9], dtype=int32)>"
            ]
          },
          "metadata": {},
          "execution_count": 26
        }
      ]
    },
    {
      "cell_type": "code",
      "source": [
        "mod.multiply(tf.constant([1, 2, 3])).numpy()"
      ],
      "metadata": {
        "colab": {
          "base_uri": "https://localhost:8080/"
        },
        "id": "qtYlwEJdqg3C",
        "outputId": "066b42ca-d289-4c4b-eeb5-19a5ac44c23d"
      },
      "execution_count": 27,
      "outputs": [
        {
          "output_type": "execute_result",
          "data": {
            "text/plain": [
              "array([3, 6, 9], dtype=int32)"
            ]
          },
          "metadata": {},
          "execution_count": 27
        }
      ]
    },
    {
      "cell_type": "markdown",
      "source": [
        "##Salvar el módulo\n",
        "\n",
        "Para guardar un módulo en TensorFlow, se usa la función tf.saved_model.save. Este método permite exportar un módulo o modelo de TensorFlow, junto con sus variables y gráficos, para ser reutilizado en otros entornos sin necesidad de depender del programa original de Python.\n",
        "\n",
        "![image](https://github.com/adiacla/bigdata/blob/master/modulosTF.JPG?raw=true)"
      ],
      "metadata": {
        "id": "59V4om0SJD4-"
      }
    },
    {
      "cell_type": "code",
      "source": [
        "save_path = './saved'\n",
        "tf.saved_model.save(mod, save_path)"
      ],
      "metadata": {
        "id": "1X-Jp55UJ6XD"
      },
      "execution_count": 28,
      "outputs": []
    },
    {
      "cell_type": "markdown",
      "source": [
        "El modelo guardado resultante es independiente del código que lo creó. Puede cargar un modelo guardado desde Python, otros enlaces de idioma o TensorFlow Serving . También puede convertirlo para que se ejecute con TensorFlow Lite o TensorFlow JS ."
      ],
      "metadata": {
        "id": "hrQYtPJ3Kh4B"
      }
    },
    {
      "cell_type": "code",
      "source": [
        "reloaded = tf.saved_model.load(save_path)\n",
        "reloaded.multiply(tf.constant([1, 2, 3]))"
      ],
      "metadata": {
        "id": "gqZfweFSKhJd",
        "colab": {
          "base_uri": "https://localhost:8080/"
        },
        "outputId": "4a9dadfd-7301-4f76-d958-4a17829af7fb"
      },
      "execution_count": 29,
      "outputs": [
        {
          "output_type": "execute_result",
          "data": {
            "text/plain": [
              "<tf.Tensor: shape=(3,), dtype=int32, numpy=array([3, 6, 9], dtype=int32)>"
            ]
          },
          "metadata": {},
          "execution_count": 29
        }
      ]
    },
    {
      "cell_type": "markdown",
      "source": [
        "##Creación de Modelos y Entrenamiento- Bucles de entrenamiento\n",
        "\n",
        "Ahora vamos a poner unido para construir un modelo básico y entrénarlo desde cero.\n",
        "\n",
        "1. Crear algunos datos de ejemplo. Esto genera una nube de puntos que sigue vagamente una curva cuadrática:\n",
        "\n",
        "2. Definir modelos personalizados usando tf.keras.Model y entrenarlos manualmente o con utilidades como Model.fit.\n",
        "\n",
        "Vamos a realizar un ejemplo  de un modelo entrenado para ajustar datos sinteticos o simulados:\n",
        "\n"
      ],
      "metadata": {
        "id": "ZOoqi51qIh-k"
      }
    },
    {
      "cell_type": "code",
      "source": [
        "# Importa la biblioteca principal de Matplotlib\n",
        "import matplotlib\n",
        "\n",
        "# Importa el módulo pyplot de Matplotlib y lo asigna al alias 'plt'\n",
        "from matplotlib import pyplot as plt\n",
        "\n",
        "# Configura el tamaño predeterminado de las figuras generadas por Matplotlib\n",
        "# Esto asegura que todas las gráficas creadas tengan dimensiones de 9 pulgadas de ancho por 6 pulgadas de alto\n",
        "matplotlib.rcParams['figure.figsize'] = [9, 6]\n"
      ],
      "metadata": {
        "id": "8TnrOmoQIqR_"
      },
      "execution_count": 30,
      "outputs": []
    },
    {
      "cell_type": "markdown",
      "source": [
        "#Generación de datos aleatorios a partir de una función\n",
        "\n",
        "Se genera un conjunto de datos x y se calcula y usando una función cuadrática, a la cual se añade ruido para simular datos experimentales o del mundo real.\n",
        "\n",
        "* Visualización:\n",
        "Los puntos (Data) muestran los datos con ruido.\n",
        "\n",
        "La línea (Ground truth) representa la relación teórica exacta entre x e y sin ruido.\n",
        "\n",
        "* Leyenda: Facilita identificar qué serie corresponde a los datos simulados y cuál a la función teórica."
      ],
      "metadata": {
        "id": "gNxwYO4lL3nl"
      }
    },
    {
      "cell_type": "markdown",
      "source": [
        "Explicaciones del código\n",
        "\n",
        "1. tf.linspace(-2, 2, 201): Genera 201 puntos equidistantes entre -2 y 2, lo que crea un vector de entradas x.\n",
        "2. tf.cast(x, tf.float32): Asegura que los valores de x sean del tipo float32 para ser utilizados en operaciones de TensorFlow.\n",
        "3. Función f(x): Calcula el valor de la ecuación cuadrática f(x) = x^2 + 2x - 5 para cada valor en x.\n",
        "4. tf.random.normal(shape=[201]): Añade ruido aleatorio a los valores de y para simular un conjunto de datos ruidosos.\n",
        "\n",
        "\n",
        "##plt.plot:\n",
        "Dibuja dos gráficos, uno con puntos (.) para los datos generados con ruido.\n",
        "Otro con una línea que representa la función cuadrática sin ruido (la \"verdad fundamental\").\n",
        "\n",
        "Al final, el gráfico resultante muestra tanto los datos ruidosos como la función que los genera.\n"
      ],
      "metadata": {
        "id": "zBmCjqXkMOUI"
      }
    },
    {
      "cell_type": "code",
      "source": [
        "# Crear un tensor 'x' con valores en un rango de -2 a 2, dividido en 201 puntos\n",
        "x = tf.linspace(-2, 2, 201)  # Genera valores de -2 a 2 con 201 puntos equidistantes\n",
        "# Convertir 'x' a tipo de dato float32 para su procesamiento posterior\n",
        "x = tf.cast(x, tf.float32)\n",
        "\n",
        "# Definir una función f(x) que calcule el valor de la expresión cuadrática: f(x) = x^2 + 2x - 5\n",
        "def f(x):\n",
        "    y = x**2 + 2*x - 5  # Evaluación de la función cuadrática\n",
        "    return y  # Devolver el valor calculado\n",
        "\n",
        "# Generar el vector de 'y' usando la función f(x) y agregar un ruido aleatorio de media 0 y varianza 1\n",
        "y = f(x) + tf.random.normal(shape=[201])  # Añadir ruido aleatorio a los valores de 'y'\n",
        "\n",
        "# Graficar los datos generados (con ruido) usando puntos ('.') en el gráfico\n",
        "plt.plot(x.numpy(), y.numpy(), '.', label='Data')  # Convertir los tensores a arrays de NumPy para graficar\n",
        "\n",
        "# Graficar la \"verdad fundamental\" (la función sin ruido) con una línea continua\n",
        "plt.plot(x, f(x), label='Ground truth')  # Graficar la función original sin ruido\n",
        "\n",
        "# Añadir la leyenda para explicar las líneas en el gráfico\n",
        "plt.legend()  # Mostrar leyenda para identificar los datos y la verdad fundamental\n"
      ],
      "metadata": {
        "id": "gLZoXt4FMd1U",
        "colab": {
          "base_uri": "https://localhost:8080/",
          "height": 539
        },
        "outputId": "b5c14cf2-46b6-4148-dde7-07a0e2be0141"
      },
      "execution_count": null,
      "outputs": [
        {
          "output_type": "execute_result",
          "data": {
            "text/plain": [
              "<matplotlib.legend.Legend at 0x7f5fe0d4f510>"
            ]
          },
          "metadata": {},
          "execution_count": 32
        },
        {
          "output_type": "display_data",
          "data": {
            "text/plain": [
              "<Figure size 900x600 with 1 Axes>"
            ],
            "image/png": "[encoded data removed]"
          },
          "metadata": {}
        }
      ]
    },
    {
      "cell_type": "markdown",
      "source": [
        "##Entrenar el modelo\n",
        "\n",
        "Definición de la clase Model(tf.Module):\n",
        "\n",
        "**tf.Module** es una clase base para crear modelos personalizados en TensorFlow. Permite realizar un seguimiento automático de las variables y asegura que los parámetros del modelo se traten como variables de TensorFlow.\n",
        "\n",
        "* Método __init__(self):\n",
        "\n",
        "*rand_init = tf.random.uniform(shape=[3], minval=0., maxval=5., seed=22)* genera un tensor con 3 valores aleatorios distribuidos uniformemente en el rango [0., 5.].\n",
        "Estos valores se usarán para inicializar los pesos y el sesgo del modelo.\n",
        "\n",
        "*self.w_q, self.w_l y self.b * son variables de TensorFlow que se inicializan con estos valores aleatorios.\n",
        "\n",
        "**self.w_q:** el peso cuadrático correspondiente al término 𝑥2.self.w_l: el peso lineal correspondiente al término 𝑥.self.b: el término de sesgo.\n",
        "\n",
        "**Método __call__(self, x)**:\n",
        "\n",
        "Este método hace que la clase sea \"llamable\", es decir, se puede utilizar una instancia de Model como si fuera una función.\n",
        "\n",
        "Toma un tensor de entrada x y calcula la salida del modelo cuadrático utilizando la fórmula:\n",
        "$$y = w_q \\cdot x^{2} + w_l \\cdot x + b$$\n",
        "\n",
        "donde $w_q$, $w_l$ y  $b$ son los parámetros del modelo.\n",
        "\n",
        "**Decorador @tf.function:**\n",
        "\n",
        "El decorador @tf.function convierte el método en un gráfico de TensorFlow, lo que mejora la eficiencia en la ejecución, especialmente cuando se utiliza en GPU o TPU.\n",
        "\n",
        "Esto optimiza el cálculo, haciéndolo más rápido en llamadas repetidas."
      ],
      "metadata": {
        "id": "DSsSlX9oNzn3"
      }
    },
    {
      "cell_type": "code",
      "source": [
        "import tensorflow as tf\n",
        "\n",
        "# Definimos una clase de modelo personalizada usando tf.Module\n",
        "class Model(tf.Module):\n",
        "\n",
        "  def __init__(self):\n",
        "    # Generamos aleatoriamente los pesos y el sesgo a partir de una distribución uniforme\n",
        "    rand_init = tf.random.uniform(shape=[3], minval=0., maxval=5., seed=22)\n",
        "    # Inicializamos los parámetros del modelo:\n",
        "    # w_q para el peso cuadrático, w_l para el peso lineal, b para el sesgo\n",
        "    self.w_q = tf.Variable(rand_init[0])  # Peso cuadrático (término x^2)\n",
        "    self.w_l = tf.Variable(rand_init[1])  # Peso lineal (término x)\n",
        "    self.b = tf.Variable(rand_init[2])    # Término de sesgo\n",
        "\n",
        "  @tf.function\n",
        "  def __call__(self, x):\n",
        "    # Definimos el modelo cuadrático: y = w_q * x^2 + w_l * x + b\n",
        "    # Esta función toma un tensor 'x' y aplica la ecuación cuadrática\n",
        "    return self.w_q * (x**2) + self.w_l * x + self.b  # Devolvemos el valor de y para el valor de x\n"
      ],
      "metadata": {
        "id": "GX-swR67PFZ0"
      },
      "execution_count": null,
      "outputs": []
    },
    {
      "cell_type": "markdown",
      "source": [
        "##Definir el mdelo\n",
        "\n",
        "quad_model = Model(): Aquí estamos creando una instancia del modelo que definimos anteriormente. Esta instancia se almacena en la variable quad_model. Este modelo tiene parámetros (pesos y sesgo) que han sido inicializados de manera aleatoria, por lo que aún no ha sido entrenado.\n",
        "El objetivo de esta línea es tener el modelo listo para evaluar su rendimiento antes de que se le realicen ajustes (entrenamiento), lo cual te permitirá comparar su rendimiento inicial con el que tendría después de haber sido entrenado."
      ],
      "metadata": {
        "id": "UkFWm4VqQnk1"
      }
    },
    {
      "cell_type": "code",
      "source": [
        "# Primero, observa el rendimiento de tu modelo antes de entrenarlo:\n",
        "\n",
        "# Creamos una instancia del modelo\n",
        "quad_model = Model()\n"
      ],
      "metadata": {
        "id": "anvOe6duQnxv"
      },
      "execution_count": null,
      "outputs": []
    },
    {
      "cell_type": "markdown",
      "source": [
        "## Predicción sin ajustar los pesos y el bias\n"
      ],
      "metadata": {
        "id": "8GFmZtQPRE0a"
      }
    },
    {
      "cell_type": "code",
      "source": [
        "\n",
        "# Definir una función para graficar las predicciones del modelo\n",
        "def plot_preds(x, y, f, model, title):\n",
        "  # Crear una nueva figura para el gráfico\n",
        "  plt.figure()\n",
        "\n",
        "  # Graficar los datos reales (con ruido) usando puntos\n",
        "  plt.plot(x, y, '.', label='Data')  # 'x' es la entrada y 'y' son los datos generados con ruido\n",
        "\n",
        "  # Graficar la \"verdad fundamental\" (la función sin ruido) con una línea\n",
        "  plt.plot(x, f(x), label='Ground truth')  # 'f(x)' es la función cuadrática original sin ruido\n",
        "\n",
        "  # Graficar las predicciones del modelo usando una línea\n",
        "  plt.plot(x, model(x), label='Predictions')  # 'model(x)' son las predicciones del modelo entrenado\n",
        "\n",
        "  # Añadir un título al gráfico\n",
        "  plt.title(title)  # El título se pasa como argumento a la función\n",
        "\n",
        "  # Mostrar la leyenda para identificar las diferentes líneas\n",
        "  plt.legend()\n"
      ],
      "metadata": {
        "id": "5ZCU-D4MRE8M"
      },
      "execution_count": null,
      "outputs": []
    },
    {
      "cell_type": "code",
      "source": [
        "plot_preds(x, y, f, quad_model, 'Before training')"
      ],
      "metadata": {
        "id": "GNomS3RhRZ28"
      },
      "execution_count": null,
      "outputs": []
    },
    {
      "cell_type": "markdown",
      "source": [
        "##definir la función de pérdida:\n",
        "\n",
        "Dado que este modelo está diseñado para predecir valores continuos, el error cuadrático medio (MSE, por sus siglas en inglés) es una buena elección para la función de pérdida. Dado un vector de predicciones, $\\hat{y}$ , y un vector de los valores verdaderos o \"ground truth\", 𝑦, el MSE se define como la media de las diferencias cuadradas entre los valores predichos y los valores reales.\n",
        "\n",
        "$$\n",
        "MSE = \\frac{1}{m} \\sum_{i=1}^{m} (\\hat{y}_i - y_i)^2\n",
        "$$\n",
        "\n",
        "Donde:\n",
        "- $ m$ es el número total de muestras.\n",
        "- $\\hat{y}_i$ es la predicción del modelo para la \\( i \\)-ésima muestra.\n",
        "- $y_i$ es el valor real o \"ground truth\" para la \\( i \\)-ésima muestra.\n",
        "-$\\sum $ denota la sumatoria a lo largo de todas las muestras.\n",
        "\n",
        "### Detalle del cálculo:\n",
        "\n",
        "La función `mse_loss` realiza los siguientes pasos:\n",
        "\n",
        "1. **Diferencia entre predicciones y valores reales:**\n",
        "   \n",
        "   $$\n",
        "   (\\hat{y}_i - y_i)\n",
        "   $$\n",
        "\n",
        "2. **Cuadrar las diferencias:**\n",
        "   \n",
        "   $$\n",
        "   (\\hat{y}_i - y_i)^2\n",
        "   $$\n",
        "\n",
        "3. **Promediar las diferencias cuadradas:**\n",
        "\n",
        "   $$\n",
        "   MSE = \\frac{1}{m} \\sum_{i=1}^{m} (\\hat{y}_i - y_i)^2\n",
        "   $$\n",
        "\n",
        "Este es el cálculo del **MSE**, que mide cuán cerca están las predicciones del modelo de los valores reales."
      ],
      "metadata": {
        "id": "RjviHRw3RnsX"
      }
    },
    {
      "cell_type": "code",
      "source": [
        "def mse_loss(y_pred, y):\n",
        "  return tf.reduce_mean(tf.square(y_pred - y))"
      ],
      "metadata": {
        "id": "t2iM8cJRN0AJ"
      },
      "execution_count": null,
      "outputs": []
    },
    {
      "cell_type": "markdown",
      "source": [
        "##Ciclo de entrenamiento básico para el modelo.\n",
        "\n",
        "El ciclo hará uso de la función de pérdida MSE y sus gradientes con respecto a la entrada para actualizar iterativamente los parámetros del modelo. El uso de mini-lotes para el entrenamiento proporciona tanto eficiencia de memoria como una convergencia más rápida. La API tf.data.Dataset tiene funciones útiles para dividir en lotes y mezclar los datos."
      ],
      "metadata": {
        "id": "PU1OLt7_TDKW"
      }
    },
    {
      "cell_type": "code",
      "source": [
        "# Establecer el tamaño del mini-lote para el entrenamiento\n",
        "batch_size = 32\n",
        "\n",
        "# Crear un objeto Dataset a partir de los tensores x (entradas) y y (salidas)\n",
        "# Esta función convierte los tensores en un conjunto de datos que puede ser utilizado en el ciclo de entrenamiento\n",
        "dataset = tf.data.Dataset.from_tensor_slices((x, y))\n",
        "\n",
        "# Barajar (mezclar) los datos para evitar que el modelo aprenda patrones basados en el orden de los datos\n",
        "# 'buffer_size' define cuántos elementos se barajan antes de seleccionar el siguiente elemento para un mini-lote\n",
        "# 'x.shape[0]' se utiliza para asegurar que todos los datos se barajen\n",
        "dataset = dataset.shuffle(buffer_size=x.shape[0])\n",
        "\n",
        "# Dividir los datos en mini-lotes del tamaño especificado por 'batch_size'\n",
        "# El modelo procesará 32 muestras a la vez durante el entrenamiento\n",
        "dataset = dataset.batch(batch_size)\n"
      ],
      "metadata": {
        "id": "Nvs2B0gFTDRw"
      },
      "execution_count": null,
      "outputs": []
    },
    {
      "cell_type": "markdown",
      "source": [
        "##Ciclo de entrenamiento\n",
        "Este ciclo de entrenamiento básico actualiza los parámetros del modelo de manera iterativa y registra cómo cambia la pérdida a lo largo del entrenamiento."
      ],
      "metadata": {
        "id": "cv-g9NzVTxkk"
      }
    },
    {
      "cell_type": "code",
      "source": [
        "# Establecer los parámetros de entrenamiento\n",
        "epochs = 100  # Número de épocas de entrenamiento\n",
        "learning_rate = 0.01  # Tasa de aprendizaje para las actualizaciones de los parámetros\n",
        "losses = []  # Lista para almacenar la pérdida en cada época\n",
        "\n",
        "# Formato del ciclo de entrenamiento\n",
        "for epoch in range(epochs):\n",
        "    for x_batch, y_batch in dataset:  # Iterar sobre los mini-lotes del conjunto de datos\n",
        "        # Realizar cálculo de gradientes con el contexto de tf.GradientTape\n",
        "        with tf.GradientTape() as tape:\n",
        "            # Calcular la pérdida del mini-lote utilizando la función de pérdida MSE\n",
        "            batch_loss = mse_loss(quad_model(x_batch), y_batch)\n",
        "\n",
        "        # Actualizar los parámetros del modelo con respecto a los gradientes calculados\n",
        "        grads = tape.gradient(batch_loss, quad_model.variables)  # Obtener los gradientes\n",
        "        for g, v in zip(grads, quad_model.variables):  # Actualizar cada parámetro\n",
        "            v.assign_sub(learning_rate * g)  # Restar el gradiente multiplicado por la tasa de aprendizaje\n",
        "\n",
        "    # Registrar la pérdida del modelo para cada época\n",
        "    loss = mse_loss(quad_model(x), y)  # Calcular la pérdida para todo el conjunto de datos\n",
        "    losses.append(loss)  # Guardar la pérdida en la lista\n",
        "    if epoch % 10 == 0:  # Mostrar la pérdida cada 10 épocas\n",
        "        print(f'Error cuadrático medio para la época {epoch}: {loss.numpy():0.3f}')\n",
        "\n",
        "# Graficar los resultados del modelo\n",
        "print(\"\\n\")\n",
        "plt.plot(range(epochs), losses)  # Graficar la evolución de la pérdida durante las épocas\n",
        "plt.xlabel(\"Época\")  # Etiqueta para el eje x\n",
        "plt.ylabel(\"Error Cuadrático Medio (MSE)\")  # Etiqueta para el eje y\n",
        "plt.title('Pérdida MSE vs Iteraciones de entrenamiento')  # Título del gráfico\n"
      ],
      "metadata": {
        "id": "zoZMgRrmTxsz",
        "colab": {
          "base_uri": "https://localhost:8080/",
          "height": 792
        },
        "outputId": "1b65b18a-6335-41ec-b8dc-6296cfc6566d"
      },
      "execution_count": null,
      "outputs": [
        {
          "output_type": "stream",
          "name": "stdout",
          "text": [
            "Error cuadrático medio para la época 0: 56.725\n",
            "Error cuadrático medio para la época 10: 10.101\n",
            "Error cuadrático medio para la época 20: 4.163\n",
            "Error cuadrático medio para la época 30: 2.122\n",
            "Error cuadrático medio para la época 40: 1.398\n",
            "Error cuadrático medio para la época 50: 1.139\n",
            "Error cuadrático medio para la época 60: 1.056\n",
            "Error cuadrático medio para la época 70: 1.024\n",
            "Error cuadrático medio para la época 80: 1.014\n",
            "Error cuadrático medio para la época 90: 1.009\n",
            "\n",
            "\n"
          ]
        },
        {
          "output_type": "execute_result",
          "data": {
            "text/plain": [
              "Text(0.5, 1.0, 'Pérdida MSE vs Iteraciones de entrenamiento')"
            ]
          },
          "metadata": {},
          "execution_count": 40
        },
        {
          "output_type": "display_data",
          "data": {
            "text/plain": [
              "<Figure size 900x600 with 1 Axes>"
            ],
            "image/png": "[encoded data removed]"
          },
          "metadata": {}
        }
      ]
    },
    {
      "cell_type": "markdown",
      "source": [
        "3Predecir un valor\n",
        "\n",
        "El código llama a la función plot_preds, que se utiliza para visualizar las predicciones del modelo y compararlas con los valores reales (y) y las predicciones de la función f (la \"verdad base\" o el modelo original)."
      ],
      "metadata": {
        "id": "NxNQN5tfUQ-s"
      }
    },
    {
      "cell_type": "code",
      "source": [
        "plot_preds(x, y, f, quad_model, 'Después del entrenamiento')"
      ],
      "metadata": {
        "id": "s4D4czWAUVmo",
        "colab": {
          "base_uri": "https://localhost:8080/",
          "height": 545
        },
        "outputId": "909e6767-7f40-4ea4-f8d3-d84c983c148f"
      },
      "execution_count": null,
      "outputs": [
        {
          "output_type": "display_data",
          "data": {
            "text/plain": [
              "<Figure size 900x600 with 1 Axes>"
            ],
            "image/png": "[encoded data removed]"
          },
          "metadata": {}
        }
      ]
    },
    {
      "cell_type": "markdown",
      "source": [
        "#Keras\n",
        "\n",
        "El modelo quedó entrenado y tiene buenos resultados, pero podemos hacer las implementaciones de utilidades de manera más fácil y sencilla usnado utilidades comunes de entrenamiento están disponibles en el módulo tf.keras.\n",
        "\n",
        "Por lo tanto vamos a considera utilizar esas funciones en la siguiente sección antes de escribir las propias, como hicimos anteriormente.\n",
        "\n"
      ],
      "metadata": {
        "id": "4faNe-nSUuGM"
      }
    },
    {
      "cell_type": "markdown",
      "source": [
        "**Keras** es una interfaz de alto nivel para TensorFlow, diseñada para facilitar y agilizar la implementación de soluciones de aprendizaje automático (ML), con un enfoque principal en el aprendizaje profundo.\n",
        "\n",
        "Esta biblioteca cubre todo el flujo de trabajo de ML, desde la preparación de datos hasta la implementación del modelo, pasando por el ajuste de hiperparámetros. Su principal objetivo es permitir una experimentación rápida y eficiente.\n",
        "\n",
        "\n",
        "Con Keras, se obtiene acceso completo a la escalabilidad y las capacidades multidispositivo de TensorFlow. Es posible ejecutar modelos en dispositivos potentes como TPUs o clusters de GPU, y también exportar modelos entrenados para su uso en navegadores web o dispositivos móviles. Además, Keras ofrece la posibilidad de desplegar modelos como APIs web.\n",
        "\n",
        "\n",
        "El diseño de Keras está orientado a reducir la carga cognitiva, enfocándose en los siguientes aspectos:\n",
        "\n",
        "\n",
        "1. Proporcionar interfaces simples y consistentes.\n",
        "2. Minimizar la cantidad de pasos necesarios para realizar tareas comunes.\n",
        "3. Ofrecer mensajes de error claros y fáciles de entender.\n",
        "4. Seguir el principio de \"divulgación progresiva de complejidad\", donde el usuario puede comenzar fácilmente y aprender gradualmente a medida que avanza en tareas más complejas.\n",
        "5. Fomentar la escritura de código conciso y legible.\n",
        "\n",
        "\n",
        "**Utilizar Keras**\n",
        "\n",
        "Cualquier persona que utilice TensorFlow debería hacerlo a través de la API de Keras. Ya sea un ingeniero, un investigador o un profesional del aprendizaje automático, Keras es la opción recomendada para comenzar.\n",
        "\n",
        "\n",
        "Existen casos específicos, como la creación de herramientas sobre TensorFlow o el desarrollo de plataformas de alto rendimiento personalizadas, donde puede ser necesario utilizar las APIs de bajo nivel de TensorFlow. Sin embargo, para la mayoría de los usuarios, Keras será la opción preferida.\n",
        "\n",
        "\n",
        "**Componentes principales de Keras**\n",
        "\n",
        "Keras está basado en dos estructuras de datos clave:\n",
        "*capas y modelos*. Una **capa** es una función que realiza una transformación entre las entradas y las salidas, mientras que un **modelo** es un gráfico acíclico dirigido (DAG) de capas.\n",
        "\n",
        "##Capas\n",
        "\n",
        "La clase *tf.keras.layers.Layer* es la piedra angular de Keras. Cada capa encapsula un conjunto de pesos y realiza ciertos cálculos a través del método call. Los pesos que se crean pueden ser entrenables o no, y las capas pueden estar compuestas de manera recursiva. Es decir, una capa puede contener otras capas como atributos, permitiendo que la capa externa gestione los pesos de las capas internas.\n",
        "\n",
        "Además, las capas pueden utilizarse para tareas de preprocesamiento, como normalización de datos o vectorización de texto. Estas capas de preprocesamiento pueden integrarse directamente en el modelo, permitiendo su portabilidad tanto durante como después del entrenamiento.\n",
        "\n",
        "##Modelos\n",
        "\n",
        "Un modelo es un objeto que agrupa capas y que puede ser entrenado con datos. El tipo de modelo más sencillo es el modelo secuencial, que organiza las capas en una pila lineal. Para arquitecturas más complejas, Keras permite utilizar la API funcional, que facilita la creación de gráficos arbitrarios de capas, o incluso escribir modelos completamente personalizados utilizando subclases.\n",
        "\n",
        "\n",
        "La clase *tf.keras.Model* proporciona métodos integrados para entrenar y evaluar modelos:\n",
        "\n",
        "***fit***: Entrena el modelo durante un número determinado de épocas.\n",
        "\n",
        "***predict***: Genera predicciones a partir de las entradas.\n",
        "\n",
        "***evaluate***: Devuelve la pérdida y las métricas del modelo, configuradas a través del método compile.\n",
        "\n",
        "Estos métodos ofrecen acceso a varias funcionalidades útiles durante el entrenamiento:\n",
        "\n",
        "***Callbacks:*** Permiten detener el entrenamiento anticipadamente, establecer puntos de control del modelo y monitorear el proceso mediante TensorBoard. También es posible implementar callbacks personalizados.\n",
        "\n",
        "\n",
        "***Entrenamiento distribuido:*** Keras facilita la extensión del entrenamiento a múltiples GPUs, TPUs o dispositivos.\n",
        "\n",
        "***Fusión escalonada:*** Al configurar steps_per_execution en compile, se pueden procesar varios lotes en una sola llamada de tf.function, mejorando la utilización del dispositivo, especialmente en TPUs.\n",
        "\n",
        "Para más detalles sobre cómo utilizar el método fit, consulta la guía de entrenamiento y evaluación. Si deseas personalizar el ciclo de entrenamiento y evaluación, puedes consultar la sección sobre personalización de fi().\n",
        "\n",
        "###Otras herramientas y APIs de Keras\n",
        "\n",
        "Keras ofrece una variedad de APIs y herramientas adicionales para el aprendizaje profundo, entre las que se incluyen:\n",
        "\n",
        "* Optimizadores\n",
        "* Métricas\n",
        "* Funciones de pérdida\n",
        "* Utilidades para la carga de datos\n",
        "\n",
        "Estas herramientas complementan la experiencia de entrenamiento y son fundamentales para optimizar y evaluar modelos de aprendizaje profundo.\n",
        "\n"
      ],
      "metadata": {
        "id": "3Fhphi73Vkjc"
      }
    },
    {
      "cell_type": "markdown",
      "source": [
        "Vamos a realizar el ejercicio que hicimos en Tensorflow donde modelamos nuestras propias funciones para usar Keras.\n",
        "\n",
        "\n",
        "Empecemos creando un Modelo Secuencial en Keras utilizando tf.keras.Sequential. Una de las capas más simples de Keras es la capa densa (Dense), que se puede instanciar con tf.keras.layers.Dense. La capa densa es capaz de aprender relaciones lineales multidimensionales de la forma  $𝑌=𝑊𝑋+𝑏$. Para aprender una ecuación no lineal de la forma $𝑤_1𝑥^2+𝑤_2𝑥+𝑏$​, la entrada de la capa densa debe ser una matriz de datos con $𝑥^2$  y $x$ como características.\n",
        "\n",
        "La capa lambda *tf.keras.layers.Lambda* se puede usar para realizar esta transformación de apilamiento.\n",
        "\n",
        "\n",
        "1. La primera capa es una capa Lambda. Esta capa aplica una transformación personalizada sobre los datos.\n",
        "En este caso, estamos apilando dos características: $'x'$ y $'x^2$' a lo largo del eje 1 (columnas) utilizando tf.stack.\n",
        "Esto permite que el modelo reciba como entrada tanto $x$ como $x^2$, lo cual es útil para aprender relaciones no lineales.\n",
        "\n",
        "2. La siguiente capa es una capa densa (Dense). Esta capa realizará una combinación lineal de las entradas que recibe.\n",
        "'units=1' significa que la capa tendrá una sola unidad de salida (un solo valor de predicción).\n",
        "'kernel_initializer=tf.random.normal' inicializa los pesos de la capa de forma aleatoria usando una distribución normal.\n",
        "\n"
      ],
      "metadata": {
        "id": "dDlpUPXnXA9p"
      }
    },
    {
      "cell_type": "code",
      "source": [
        "x"
      ],
      "metadata": {
        "colab": {
          "base_uri": "https://localhost:8080/"
        },
        "id": "UwkFnLmIs9y3",
        "outputId": "363b9968-83f7-48a0-83e9-aaab0afa37b4"
      },
      "execution_count": null,
      "outputs": [
        {
          "output_type": "execute_result",
          "data": {
            "text/plain": [
              "<tf.Tensor: shape=(201,), dtype=float32, numpy=\n",
              "array([-2.  , -1.98, -1.96, -1.94, -1.92, -1.9 , -1.88, -1.86, -1.84,\n",
              "       -1.82, -1.8 , -1.78, -1.76, -1.74, -1.72, -1.7 , -1.68, -1.66,\n",
              "       -1.64, -1.62, -1.6 , -1.58, -1.56, -1.54, -1.52, -1.5 , -1.48,\n",
              "       -1.46, -1.44, -1.42, -1.4 , -1.38, -1.36, -1.34, -1.32, -1.3 ,\n",
              "       -1.28, -1.26, -1.24, -1.22, -1.2 , -1.18, -1.16, -1.14, -1.12,\n",
              "       -1.1 , -1.08, -1.06, -1.04, -1.02, -1.  , -0.98, -0.96, -0.94,\n",
              "       -0.92, -0.9 , -0.88, -0.86, -0.84, -0.82, -0.8 , -0.78, -0.76,\n",
              "       -0.74, -0.72, -0.7 , -0.68, -0.66, -0.64, -0.62, -0.6 , -0.58,\n",
              "       -0.56, -0.54, -0.52, -0.5 , -0.48, -0.46, -0.44, -0.42, -0.4 ,\n",
              "       -0.38, -0.36, -0.34, -0.32, -0.3 , -0.28, -0.26, -0.24, -0.22,\n",
              "       -0.2 , -0.18, -0.16, -0.14, -0.12, -0.1 , -0.08, -0.06, -0.04,\n",
              "       -0.02,  0.  ,  0.02,  0.04,  0.06,  0.08,  0.1 ,  0.12,  0.14,\n",
              "        0.16,  0.18,  0.2 ,  0.22,  0.24,  0.26,  0.28,  0.3 ,  0.32,\n",
              "        0.34,  0.36,  0.38,  0.4 ,  0.42,  0.44,  0.46,  0.48,  0.5 ,\n",
              "        0.52,  0.54,  0.56,  0.58,  0.6 ,  0.62,  0.64,  0.66,  0.68,\n",
              "        0.7 ,  0.72,  0.74,  0.76,  0.78,  0.8 ,  0.82,  0.84,  0.86,\n",
              "        0.88,  0.9 ,  0.92,  0.94,  0.96,  0.98,  1.  ,  1.02,  1.04,\n",
              "        1.06,  1.08,  1.1 ,  1.12,  1.14,  1.16,  1.18,  1.2 ,  1.22,\n",
              "        1.24,  1.26,  1.28,  1.3 ,  1.32,  1.34,  1.36,  1.38,  1.4 ,\n",
              "        1.42,  1.44,  1.46,  1.48,  1.5 ,  1.52,  1.54,  1.56,  1.58,\n",
              "        1.6 ,  1.62,  1.64,  1.66,  1.68,  1.7 ,  1.72,  1.74,  1.76,\n",
              "        1.78,  1.8 ,  1.82,  1.84,  1.86,  1.88,  1.9 ,  1.92,  1.94,\n",
              "        1.96,  1.98,  2.  ], dtype=float32)>"
            ]
          },
          "metadata": {},
          "execution_count": 43
        }
      ]
    },
    {
      "cell_type": "code",
      "source": [
        "modelo_keras = tf.keras.Sequential([\n",
        "    tf.keras.layers.Lambda(lambda x: tf.stack([x, x**2], axis=1)),\n",
        "    tf.keras.layers.Dense(units=1, kernel_initializer=tf.random.normal)])\n"
      ],
      "metadata": {
        "id": "praHocfIYIKi"
      },
      "execution_count": null,
      "outputs": []
    },
    {
      "cell_type": "code",
      "source": [
        "modelo_keras.summary()"
      ],
      "metadata": {
        "colab": {
          "base_uri": "https://localhost:8080/",
          "height": 193
        },
        "id": "Y8LYAGRUtEvV",
        "outputId": "5b7ccb9b-6131-4248-f786-f73c6422ea00"
      },
      "execution_count": null,
      "outputs": [
        {
          "output_type": "display_data",
          "data": {
            "text/plain": [
              "\u001b[1mModel: \"sequential\"\u001b[0m\n"
            ],
            "text/html": [
              "<pre style=\"white-space:pre;overflow-x:auto;line-height:normal;font-family:Menlo,'DejaVu Sans Mono',consolas,'Courier New',monospace\"><span style=\"font-weight: bold\">Model: \"sequential\"</span>\n",
              "</pre>\n"
            ]
          },
          "metadata": {}
        },
        {
          "output_type": "display_data",
          "data": {
            "text/plain": [
              "┏━━━━━━━━━━━━━━━━━━━━━━━━━━━━━━━━━━━━━━┳━━━━━━━━━━━━━━━━━━━━━━━━━━━━━┳━━━━━━━━━━━━━━━━━┓\n",
              "┃\u001b[1m \u001b[0m\u001b[1mLayer (type)                        \u001b[0m\u001b[1m \u001b[0m┃\u001b[1m \u001b[0m\u001b[1mOutput Shape               \u001b[0m\u001b[1m \u001b[0m┃\u001b[1m \u001b[0m\u001b[1m        Param #\u001b[0m\u001b[1m \u001b[0m┃\n",
              "┡━━━━━━━━━━━━━━━━━━━━━━━━━━━━━━━━━━━━━━╇━━━━━━━━━━━━━━━━━━━━━━━━━━━━━╇━━━━━━━━━━━━━━━━━┩\n",
              "│ lambda (\u001b[38;5;33mLambda\u001b[0m)                      │ ?                           │     \u001b[38;5;34m0\u001b[0m (unbuilt) │\n",
              "├──────────────────────────────────────┼─────────────────────────────┼─────────────────┤\n",
              "│ dense (\u001b[38;5;33mDense\u001b[0m)                        │ ?                           │     \u001b[38;5;34m0\u001b[0m (unbuilt) │\n",
              "└──────────────────────────────────────┴─────────────────────────────┴─────────────────┘\n"
            ],
            "text/html": [
              "<pre style=\"white-space:pre;overflow-x:auto;line-height:normal;font-family:Menlo,'DejaVu Sans Mono',consolas,'Courier New',monospace\">┏━━━━━━━━━━━━━━━━━━━━━━━━━━━━━━━━━━━━━━┳━━━━━━━━━━━━━━━━━━━━━━━━━━━━━┳━━━━━━━━━━━━━━━━━┓\n",
              "┃<span style=\"font-weight: bold\"> Layer (type)                         </span>┃<span style=\"font-weight: bold\"> Output Shape                </span>┃<span style=\"font-weight: bold\">         Param # </span>┃\n",
              "┡━━━━━━━━━━━━━━━━━━━━━━━━━━━━━━━━━━━━━━╇━━━━━━━━━━━━━━━━━━━━━━━━━━━━━╇━━━━━━━━━━━━━━━━━┩\n",
              "│ lambda (<span style=\"color: #0087ff; text-decoration-color: #0087ff\">Lambda</span>)                      │ ?                           │     <span style=\"color: #00af00; text-decoration-color: #00af00\">0</span> (unbuilt) │\n",
              "├──────────────────────────────────────┼─────────────────────────────┼─────────────────┤\n",
              "│ dense (<span style=\"color: #0087ff; text-decoration-color: #0087ff\">Dense</span>)                        │ ?                           │     <span style=\"color: #00af00; text-decoration-color: #00af00\">0</span> (unbuilt) │\n",
              "└──────────────────────────────────────┴─────────────────────────────┴─────────────────┘\n",
              "</pre>\n"
            ]
          },
          "metadata": {}
        },
        {
          "output_type": "display_data",
          "data": {
            "text/plain": [
              "\u001b[1m Total params: \u001b[0m\u001b[38;5;34m0\u001b[0m (0.00 B)\n"
            ],
            "text/html": [
              "<pre style=\"white-space:pre;overflow-x:auto;line-height:normal;font-family:Menlo,'DejaVu Sans Mono',consolas,'Courier New',monospace\"><span style=\"font-weight: bold\"> Total params: </span><span style=\"color: #00af00; text-decoration-color: #00af00\">0</span> (0.00 B)\n",
              "</pre>\n"
            ]
          },
          "metadata": {}
        },
        {
          "output_type": "display_data",
          "data": {
            "text/plain": [
              "\u001b[1m Trainable params: \u001b[0m\u001b[38;5;34m0\u001b[0m (0.00 B)\n"
            ],
            "text/html": [
              "<pre style=\"white-space:pre;overflow-x:auto;line-height:normal;font-family:Menlo,'DejaVu Sans Mono',consolas,'Courier New',monospace\"><span style=\"font-weight: bold\"> Trainable params: </span><span style=\"color: #00af00; text-decoration-color: #00af00\">0</span> (0.00 B)\n",
              "</pre>\n"
            ]
          },
          "metadata": {}
        },
        {
          "output_type": "display_data",
          "data": {
            "text/plain": [
              "\u001b[1m Non-trainable params: \u001b[0m\u001b[38;5;34m0\u001b[0m (0.00 B)\n"
            ],
            "text/html": [
              "<pre style=\"white-space:pre;overflow-x:auto;line-height:normal;font-family:Menlo,'DejaVu Sans Mono',consolas,'Courier New',monospace\"><span style=\"font-weight: bold\"> Non-trainable params: </span><span style=\"color: #00af00; text-decoration-color: #00af00\">0</span> (0.00 B)\n",
              "</pre>\n"
            ]
          },
          "metadata": {}
        }
      ]
    },
    {
      "cell_type": "code",
      "source": [
        "# Compilamos el modelo con una función de pérdida MSE (error cuadrático medio) y un optimizador SGD con tasa de aprendizaje de 0.01.\n",
        "modelo_keras.compile(\n",
        "    loss=tf.keras.losses.MSE,\n",
        "    optimizer=tf.keras.optimizers.SGD(learning_rate=0.01)\n",
        ")\n",
        "\n"
      ],
      "metadata": {
        "id": "vvDKynLfYTi0"
      },
      "execution_count": null,
      "outputs": []
    },
    {
      "cell_type": "code",
      "source": [
        "# Entrenamos el modelo durante 100 épocas con un tamaño de lote de 32, utilizando los datos de entrada x y las etiquetas y.\n",
        "history = modelo_keras.fit(x, y, epochs=100, batch_size=32, verbose=1)\n",
        "\n",
        "\n"
      ],
      "metadata": {
        "colab": {
          "base_uri": "https://localhost:8080/"
        },
        "id": "4MICragmtMgo",
        "outputId": "bebc3660-4400-4b24-a950-93f4703bf482"
      },
      "execution_count": null,
      "outputs": [
        {
          "output_type": "stream",
          "name": "stdout",
          "text": [
            "Epoch 1/100\n",
            "\u001b[1m7/7\u001b[0m \u001b[32m━━━━━━━━━━━━━━━━━━━━\u001b[0m\u001b[37m\u001b[0m \u001b[1m1s\u001b[0m 23ms/step - loss: 20.1090\n",
            "Epoch 2/100\n",
            "\u001b[1m7/7\u001b[0m \u001b[32m━━━━━━━━━━━━━━━━━━━━\u001b[0m\u001b[37m\u001b[0m \u001b[1m0s\u001b[0m 4ms/step - loss: 12.1864  \n",
            "Epoch 3/100\n",
            "\u001b[1m7/7\u001b[0m \u001b[32m━━━━━━━━━━━━━━━━━━━━\u001b[0m\u001b[37m\u001b[0m \u001b[1m0s\u001b[0m 4ms/step - loss: 9.7412  \n",
            "Epoch 4/100\n",
            "\u001b[1m7/7\u001b[0m \u001b[32m━━━━━━━━━━━━━━━━━━━━\u001b[0m\u001b[37m\u001b[0m \u001b[1m0s\u001b[0m 4ms/step - loss: 7.8190 \n",
            "Epoch 5/100\n",
            "\u001b[1m7/7\u001b[0m \u001b[32m━━━━━━━━━━━━━━━━━━━━\u001b[0m\u001b[37m\u001b[0m \u001b[1m0s\u001b[0m 4ms/step - loss: 6.4065 \n",
            "Epoch 6/100\n",
            "\u001b[1m7/7\u001b[0m \u001b[32m━━━━━━━━━━━━━━━━━━━━\u001b[0m\u001b[37m\u001b[0m \u001b[1m0s\u001b[0m 4ms/step - loss: 6.1097 \n",
            "Epoch 7/100\n",
            "\u001b[1m7/7\u001b[0m \u001b[32m━━━━━━━━━━━━━━━━━━━━\u001b[0m\u001b[37m\u001b[0m \u001b[1m0s\u001b[0m 5ms/step - loss: 5.6978 \n",
            "Epoch 8/100\n",
            "\u001b[1m7/7\u001b[0m \u001b[32m━━━━━━━━━━━━━━━━━━━━\u001b[0m\u001b[37m\u001b[0m \u001b[1m0s\u001b[0m 4ms/step - loss: 5.0477 \n",
            "Epoch 9/100\n",
            "\u001b[1m7/7\u001b[0m \u001b[32m━━━━━━━━━━━━━━━━━━━━\u001b[0m\u001b[37m\u001b[0m \u001b[1m0s\u001b[0m 4ms/step - loss: 4.4050 \n",
            "Epoch 10/100\n",
            "\u001b[1m7/7\u001b[0m \u001b[32m━━━━━━━━━━━━━━━━━━━━\u001b[0m\u001b[37m\u001b[0m \u001b[1m0s\u001b[0m 4ms/step - loss: 4.6552 \n",
            "Epoch 11/100\n",
            "\u001b[1m7/7\u001b[0m \u001b[32m━━━━━━━━━━━━━━━━━━━━\u001b[0m\u001b[37m\u001b[0m \u001b[1m0s\u001b[0m 4ms/step - loss: 4.0234 \n",
            "Epoch 12/100\n",
            "\u001b[1m7/7\u001b[0m \u001b[32m━━━━━━━━━━━━━━━━━━━━\u001b[0m\u001b[37m\u001b[0m \u001b[1m0s\u001b[0m 4ms/step - loss: 3.7313 \n",
            "Epoch 13/100\n",
            "\u001b[1m7/7\u001b[0m \u001b[32m━━━━━━━━━━━━━━━━━━━━\u001b[0m\u001b[37m\u001b[0m \u001b[1m0s\u001b[0m 4ms/step - loss: 3.5841 \n",
            "Epoch 14/100\n",
            "\u001b[1m7/7\u001b[0m \u001b[32m━━━━━━━━━━━━━━━━━━━━\u001b[0m\u001b[37m\u001b[0m \u001b[1m0s\u001b[0m 4ms/step - loss: 3.0008 \n",
            "Epoch 15/100\n",
            "\u001b[1m7/7\u001b[0m \u001b[32m━━━━━━━━━━━━━━━━━━━━\u001b[0m\u001b[37m\u001b[0m \u001b[1m0s\u001b[0m 4ms/step - loss: 2.9105 \n",
            "Epoch 16/100\n",
            "\u001b[1m7/7\u001b[0m \u001b[32m━━━━━━━━━━━━━━━━━━━━\u001b[0m\u001b[37m\u001b[0m \u001b[1m0s\u001b[0m 4ms/step - loss: 2.7479 \n",
            "Epoch 17/100\n",
            "\u001b[1m7/7\u001b[0m \u001b[32m━━━━━━━━━━━━━━━━━━━━\u001b[0m\u001b[37m\u001b[0m \u001b[1m0s\u001b[0m 4ms/step - loss: 2.2640 \n",
            "Epoch 18/100\n",
            "\u001b[1m7/7\u001b[0m \u001b[32m━━━━━━━━━━━━━━━━━━━━\u001b[0m\u001b[37m\u001b[0m \u001b[1m0s\u001b[0m 4ms/step - loss: 2.7773 \n",
            "Epoch 19/100\n",
            "\u001b[1m7/7\u001b[0m \u001b[32m━━━━━━━━━━━━━━━━━━━━\u001b[0m\u001b[37m\u001b[0m \u001b[1m0s\u001b[0m 5ms/step - loss: 2.1568 \n",
            "Epoch 20/100\n",
            "\u001b[1m7/7\u001b[0m \u001b[32m━━━━━━━━━━━━━━━━━━━━\u001b[0m\u001b[37m\u001b[0m \u001b[1m0s\u001b[0m 5ms/step - loss: 2.1650 \n",
            "Epoch 21/100\n",
            "\u001b[1m7/7\u001b[0m \u001b[32m━━━━━━━━━━━━━━━━━━━━\u001b[0m\u001b[37m\u001b[0m \u001b[1m0s\u001b[0m 5ms/step - loss: 1.8904 \n",
            "Epoch 22/100\n",
            "\u001b[1m7/7\u001b[0m \u001b[32m━━━━━━━━━━━━━━━━━━━━\u001b[0m\u001b[37m\u001b[0m \u001b[1m0s\u001b[0m 4ms/step - loss: 1.8693 \n",
            "Epoch 23/100\n",
            "\u001b[1m7/7\u001b[0m \u001b[32m━━━━━━━━━━━━━━━━━━━━\u001b[0m\u001b[37m\u001b[0m \u001b[1m0s\u001b[0m 5ms/step - loss: 1.8857 \n",
            "Epoch 24/100\n",
            "\u001b[1m7/7\u001b[0m \u001b[32m━━━━━━━━━━━━━━━━━━━━\u001b[0m\u001b[37m\u001b[0m \u001b[1m0s\u001b[0m 4ms/step - loss: 1.6972 \n",
            "Epoch 25/100\n",
            "\u001b[1m7/7\u001b[0m \u001b[32m━━━━━━━━━━━━━━━━━━━━\u001b[0m\u001b[37m\u001b[0m \u001b[1m0s\u001b[0m 4ms/step - loss: 1.6781 \n",
            "Epoch 26/100\n",
            "\u001b[1m7/7\u001b[0m \u001b[32m━━━━━━━━━━━━━━━━━━━━\u001b[0m\u001b[37m\u001b[0m \u001b[1m0s\u001b[0m 4ms/step - loss: 1.5217 \n",
            "Epoch 27/100\n",
            "\u001b[1m7/7\u001b[0m \u001b[32m━━━━━━━━━━━━━━━━━━━━\u001b[0m\u001b[37m\u001b[0m \u001b[1m0s\u001b[0m 4ms/step - loss: 1.5978 \n",
            "Epoch 28/100\n",
            "\u001b[1m7/7\u001b[0m \u001b[32m━━━━━━━━━━━━━━━━━━━━\u001b[0m\u001b[37m\u001b[0m \u001b[1m0s\u001b[0m 4ms/step - loss: 1.4961 \n",
            "Epoch 29/100\n",
            "\u001b[1m7/7\u001b[0m \u001b[32m━━━━━━━━━━━━━━━━━━━━\u001b[0m\u001b[37m\u001b[0m \u001b[1m0s\u001b[0m 4ms/step - loss: 1.3178 \n",
            "Epoch 30/100\n",
            "\u001b[1m7/7\u001b[0m \u001b[32m━━━━━━━━━━━━━━━━━━━━\u001b[0m\u001b[37m\u001b[0m \u001b[1m0s\u001b[0m 4ms/step - loss: 1.3115 \n",
            "Epoch 31/100\n",
            "\u001b[1m7/7\u001b[0m \u001b[32m━━━━━━━━━━━━━━━━━━━━\u001b[0m\u001b[37m\u001b[0m \u001b[1m0s\u001b[0m 6ms/step - loss: 1.4185 \n",
            "Epoch 32/100\n",
            "\u001b[1m7/7\u001b[0m \u001b[32m━━━━━━━━━━━━━━━━━━━━\u001b[0m\u001b[37m\u001b[0m \u001b[1m0s\u001b[0m 4ms/step - loss: 1.3644 \n",
            "Epoch 33/100\n",
            "\u001b[1m7/7\u001b[0m \u001b[32m━━━━━━━━━━━━━━━━━━━━\u001b[0m\u001b[37m\u001b[0m \u001b[1m0s\u001b[0m 4ms/step - loss: 1.3630 \n",
            "Epoch 34/100\n",
            "\u001b[1m7/7\u001b[0m \u001b[32m━━━━━━━━━━━━━━━━━━━━\u001b[0m\u001b[37m\u001b[0m \u001b[1m0s\u001b[0m 4ms/step - loss: 1.3087 \n",
            "Epoch 35/100\n",
            "\u001b[1m7/7\u001b[0m \u001b[32m━━━━━━━━━━━━━━━━━━━━\u001b[0m\u001b[37m\u001b[0m \u001b[1m0s\u001b[0m 4ms/step - loss: 1.2643 \n",
            "Epoch 36/100\n",
            "\u001b[1m7/7\u001b[0m \u001b[32m━━━━━━━━━━━━━━━━━━━━\u001b[0m\u001b[37m\u001b[0m \u001b[1m0s\u001b[0m 4ms/step - loss: 1.0958 \n",
            "Epoch 37/100\n",
            "\u001b[1m7/7\u001b[0m \u001b[32m━━━━━━━━━━━━━━━━━━━━\u001b[0m\u001b[37m\u001b[0m \u001b[1m0s\u001b[0m 5ms/step - loss: 1.2729 \n",
            "Epoch 38/100\n",
            "\u001b[1m7/7\u001b[0m \u001b[32m━━━━━━━━━━━━━━━━━━━━\u001b[0m\u001b[37m\u001b[0m \u001b[1m0s\u001b[0m 5ms/step - loss: 1.2544 \n",
            "Epoch 39/100\n",
            "\u001b[1m7/7\u001b[0m \u001b[32m━━━━━━━━━━━━━━━━━━━━\u001b[0m\u001b[37m\u001b[0m \u001b[1m0s\u001b[0m 5ms/step - loss: 1.1054 \n",
            "Epoch 40/100\n",
            "\u001b[1m7/7\u001b[0m \u001b[32m━━━━━━━━━━━━━━━━━━━━\u001b[0m\u001b[37m\u001b[0m \u001b[1m0s\u001b[0m 4ms/step - loss: 1.1297 \n",
            "Epoch 41/100\n",
            "\u001b[1m7/7\u001b[0m \u001b[32m━━━━━━━━━━━━━━━━━━━━\u001b[0m\u001b[37m\u001b[0m \u001b[1m0s\u001b[0m 4ms/step - loss: 1.2401 \n",
            "Epoch 42/100\n",
            "\u001b[1m7/7\u001b[0m \u001b[32m━━━━━━━━━━━━━━━━━━━━\u001b[0m\u001b[37m\u001b[0m \u001b[1m0s\u001b[0m 4ms/step - loss: 1.2513 \n",
            "Epoch 43/100\n",
            "\u001b[1m7/7\u001b[0m \u001b[32m━━━━━━━━━━━━━━━━━━━━\u001b[0m\u001b[37m\u001b[0m \u001b[1m0s\u001b[0m 5ms/step - loss: 1.0946 \n",
            "Epoch 44/100\n",
            "\u001b[1m7/7\u001b[0m \u001b[32m━━━━━━━━━━━━━━━━━━━━\u001b[0m\u001b[37m\u001b[0m \u001b[1m0s\u001b[0m 4ms/step - loss: 1.1447 \n",
            "Epoch 45/100\n",
            "\u001b[1m7/7\u001b[0m \u001b[32m━━━━━━━━━━━━━━━━━━━━\u001b[0m\u001b[37m\u001b[0m \u001b[1m0s\u001b[0m 4ms/step - loss: 1.0686 \n",
            "Epoch 46/100\n",
            "\u001b[1m7/7\u001b[0m \u001b[32m━━━━━━━━━━━━━━━━━━━━\u001b[0m\u001b[37m\u001b[0m \u001b[1m0s\u001b[0m 4ms/step - loss: 1.1028 \n",
            "Epoch 47/100\n",
            "\u001b[1m7/7\u001b[0m \u001b[32m━━━━━━━━━━━━━━━━━━━━\u001b[0m\u001b[37m\u001b[0m \u001b[1m0s\u001b[0m 4ms/step - loss: 0.9896 \n",
            "Epoch 48/100\n",
            "\u001b[1m7/7\u001b[0m \u001b[32m━━━━━━━━━━━━━━━━━━━━\u001b[0m\u001b[37m\u001b[0m \u001b[1m0s\u001b[0m 5ms/step - loss: 1.2106 \n",
            "Epoch 49/100\n",
            "\u001b[1m7/7\u001b[0m \u001b[32m━━━━━━━━━━━━━━━━━━━━\u001b[0m\u001b[37m\u001b[0m \u001b[1m0s\u001b[0m 5ms/step - loss: 1.0749 \n",
            "Epoch 50/100\n",
            "\u001b[1m7/7\u001b[0m \u001b[32m━━━━━━━━━━━━━━━━━━━━\u001b[0m\u001b[37m\u001b[0m \u001b[1m0s\u001b[0m 4ms/step - loss: 1.0984 \n",
            "Epoch 51/100\n",
            "\u001b[1m7/7\u001b[0m \u001b[32m━━━━━━━━━━━━━━━━━━━━\u001b[0m\u001b[37m\u001b[0m \u001b[1m0s\u001b[0m 4ms/step - loss: 1.0681 \n",
            "Epoch 52/100\n",
            "\u001b[1m7/7\u001b[0m \u001b[32m━━━━━━━━━━━━━━━━━━━━\u001b[0m\u001b[37m\u001b[0m \u001b[1m0s\u001b[0m 4ms/step - loss: 1.2791 \n",
            "Epoch 53/100\n",
            "\u001b[1m7/7\u001b[0m \u001b[32m━━━━━━━━━━━━━━━━━━━━\u001b[0m\u001b[37m\u001b[0m \u001b[1m0s\u001b[0m 4ms/step - loss: 0.9690 \n",
            "Epoch 54/100\n",
            "\u001b[1m7/7\u001b[0m \u001b[32m━━━━━━━━━━━━━━━━━━━━\u001b[0m\u001b[37m\u001b[0m \u001b[1m0s\u001b[0m 4ms/step - loss: 1.0870 \n",
            "Epoch 55/100\n",
            "\u001b[1m7/7\u001b[0m \u001b[32m━━━━━━━━━━━━━━━━━━━━\u001b[0m\u001b[37m\u001b[0m \u001b[1m0s\u001b[0m 5ms/step - loss: 1.0935 \n",
            "Epoch 56/100\n",
            "\u001b[1m7/7\u001b[0m \u001b[32m━━━━━━━━━━━━━━━━━━━━\u001b[0m\u001b[37m\u001b[0m \u001b[1m0s\u001b[0m 6ms/step - loss: 1.0185 \n",
            "Epoch 57/100\n",
            "\u001b[1m7/7\u001b[0m \u001b[32m━━━━━━━━━━━━━━━━━━━━\u001b[0m\u001b[37m\u001b[0m \u001b[1m0s\u001b[0m 5ms/step - loss: 1.0879 \n",
            "Epoch 58/100\n",
            "\u001b[1m7/7\u001b[0m \u001b[32m━━━━━━━━━━━━━━━━━━━━\u001b[0m\u001b[37m\u001b[0m \u001b[1m0s\u001b[0m 4ms/step - loss: 1.0497 \n",
            "Epoch 59/100\n",
            "\u001b[1m7/7\u001b[0m \u001b[32m━━━━━━━━━━━━━━━━━━━━\u001b[0m\u001b[37m\u001b[0m \u001b[1m0s\u001b[0m 4ms/step - loss: 0.9928 \n",
            "Epoch 60/100\n",
            "\u001b[1m7/7\u001b[0m \u001b[32m━━━━━━━━━━━━━━━━━━━━\u001b[0m\u001b[37m\u001b[0m \u001b[1m0s\u001b[0m 4ms/step - loss: 1.0322 \n",
            "Epoch 61/100\n",
            "\u001b[1m7/7\u001b[0m \u001b[32m━━━━━━━━━━━━━━━━━━━━\u001b[0m\u001b[37m\u001b[0m \u001b[1m0s\u001b[0m 4ms/step - loss: 1.1344 \n",
            "Epoch 62/100\n",
            "\u001b[1m7/7\u001b[0m \u001b[32m━━━━━━━━━━━━━━━━━━━━\u001b[0m\u001b[37m\u001b[0m \u001b[1m0s\u001b[0m 4ms/step - loss: 1.1466 \n",
            "Epoch 63/100\n",
            "\u001b[1m7/7\u001b[0m \u001b[32m━━━━━━━━━━━━━━━━━━━━\u001b[0m\u001b[37m\u001b[0m \u001b[1m0s\u001b[0m 4ms/step - loss: 1.0362 \n",
            "Epoch 64/100\n",
            "\u001b[1m7/7\u001b[0m \u001b[32m━━━━━━━━━━━━━━━━━━━━\u001b[0m\u001b[37m\u001b[0m \u001b[1m0s\u001b[0m 5ms/step - loss: 1.0267 \n",
            "Epoch 65/100\n",
            "\u001b[1m7/7\u001b[0m \u001b[32m━━━━━━━━━━━━━━━━━━━━\u001b[0m\u001b[37m\u001b[0m \u001b[1m0s\u001b[0m 4ms/step - loss: 0.9526 \n",
            "Epoch 66/100\n",
            "\u001b[1m7/7\u001b[0m \u001b[32m━━━━━━━━━━━━━━━━━━━━\u001b[0m\u001b[37m\u001b[0m \u001b[1m0s\u001b[0m 4ms/step - loss: 1.0661 \n",
            "Epoch 67/100\n",
            "\u001b[1m7/7\u001b[0m \u001b[32m━━━━━━━━━━━━━━━━━━━━\u001b[0m\u001b[37m\u001b[0m \u001b[1m0s\u001b[0m 4ms/step - loss: 1.0403 \n",
            "Epoch 68/100\n",
            "\u001b[1m7/7\u001b[0m \u001b[32m━━━━━━━━━━━━━━━━━━━━\u001b[0m\u001b[37m\u001b[0m \u001b[1m0s\u001b[0m 6ms/step - loss: 1.0669 \n",
            "Epoch 69/100\n",
            "\u001b[1m7/7\u001b[0m \u001b[32m━━━━━━━━━━━━━━━━━━━━\u001b[0m\u001b[37m\u001b[0m \u001b[1m0s\u001b[0m 5ms/step - loss: 0.9671 \n",
            "Epoch 70/100\n",
            "\u001b[1m7/7\u001b[0m \u001b[32m━━━━━━━━━━━━━━━━━━━━\u001b[0m\u001b[37m\u001b[0m \u001b[1m0s\u001b[0m 4ms/step - loss: 0.9166 \n",
            "Epoch 71/100\n",
            "\u001b[1m7/7\u001b[0m \u001b[32m━━━━━━━━━━━━━━━━━━━━\u001b[0m\u001b[37m\u001b[0m \u001b[1m0s\u001b[0m 4ms/step - loss: 0.9974 \n",
            "Epoch 72/100\n",
            "\u001b[1m7/7\u001b[0m \u001b[32m━━━━━━━━━━━━━━━━━━━━\u001b[0m\u001b[37m\u001b[0m \u001b[1m0s\u001b[0m 4ms/step - loss: 1.0282 \n",
            "Epoch 73/100\n",
            "\u001b[1m7/7\u001b[0m \u001b[32m━━━━━━━━━━━━━━━━━━━━\u001b[0m\u001b[37m\u001b[0m \u001b[1m0s\u001b[0m 7ms/step - loss: 0.9085 \n",
            "Epoch 74/100\n",
            "\u001b[1m7/7\u001b[0m \u001b[32m━━━━━━━━━━━━━━━━━━━━\u001b[0m\u001b[37m\u001b[0m \u001b[1m0s\u001b[0m 7ms/step - loss: 1.0784 \n",
            "Epoch 75/100\n",
            "\u001b[1m7/7\u001b[0m \u001b[32m━━━━━━━━━━━━━━━━━━━━\u001b[0m\u001b[37m\u001b[0m \u001b[1m0s\u001b[0m 7ms/step - loss: 0.9406 \n",
            "Epoch 76/100\n",
            "\u001b[1m7/7\u001b[0m \u001b[32m━━━━━━━━━━━━━━━━━━━━\u001b[0m\u001b[37m\u001b[0m \u001b[1m0s\u001b[0m 7ms/step - loss: 1.0269 \n",
            "Epoch 77/100\n",
            "\u001b[1m7/7\u001b[0m \u001b[32m━━━━━━━━━━━━━━━━━━━━\u001b[0m\u001b[37m\u001b[0m \u001b[1m0s\u001b[0m 7ms/step - loss: 1.1878 \n",
            "Epoch 78/100\n",
            "\u001b[1m7/7\u001b[0m \u001b[32m━━━━━━━━━━━━━━━━━━━━\u001b[0m\u001b[37m\u001b[0m \u001b[1m0s\u001b[0m 7ms/step - loss: 1.0209 \n",
            "Epoch 79/100\n",
            "\u001b[1m7/7\u001b[0m \u001b[32m━━━━━━━━━━━━━━━━━━━━\u001b[0m\u001b[37m\u001b[0m \u001b[1m0s\u001b[0m 7ms/step - loss: 0.9655 \n",
            "Epoch 80/100\n",
            "\u001b[1m7/7\u001b[0m \u001b[32m━━━━━━━━━━━━━━━━━━━━\u001b[0m\u001b[37m\u001b[0m \u001b[1m0s\u001b[0m 8ms/step - loss: 1.0291 \n",
            "Epoch 81/100\n",
            "\u001b[1m7/7\u001b[0m \u001b[32m━━━━━━━━━━━━━━━━━━━━\u001b[0m\u001b[37m\u001b[0m \u001b[1m0s\u001b[0m 9ms/step - loss: 0.9918 \n",
            "Epoch 82/100\n",
            "\u001b[1m7/7\u001b[0m \u001b[32m━━━━━━━━━━━━━━━━━━━━\u001b[0m\u001b[37m\u001b[0m \u001b[1m0s\u001b[0m 7ms/step - loss: 1.1101 \n",
            "Epoch 83/100\n",
            "\u001b[1m7/7\u001b[0m \u001b[32m━━━━━━━━━━━━━━━━━━━━\u001b[0m\u001b[37m\u001b[0m \u001b[1m0s\u001b[0m 7ms/step - loss: 1.0406 \n",
            "Epoch 84/100\n",
            "\u001b[1m7/7\u001b[0m \u001b[32m━━━━━━━━━━━━━━━━━━━━\u001b[0m\u001b[37m\u001b[0m \u001b[1m0s\u001b[0m 7ms/step - loss: 1.1375 \n",
            "Epoch 85/100\n",
            "\u001b[1m7/7\u001b[0m \u001b[32m━━━━━━━━━━━━━━━━━━━━\u001b[0m\u001b[37m\u001b[0m \u001b[1m0s\u001b[0m 5ms/step - loss: 1.0174 \n",
            "Epoch 86/100\n",
            "\u001b[1m7/7\u001b[0m \u001b[32m━━━━━━━━━━━━━━━━━━━━\u001b[0m\u001b[37m\u001b[0m \u001b[1m0s\u001b[0m 5ms/step - loss: 1.0025 \n",
            "Epoch 87/100\n",
            "\u001b[1m7/7\u001b[0m \u001b[32m━━━━━━━━━━━━━━━━━━━━\u001b[0m\u001b[37m\u001b[0m \u001b[1m0s\u001b[0m 5ms/step - loss: 1.0956 \n",
            "Epoch 88/100\n",
            "\u001b[1m7/7\u001b[0m \u001b[32m━━━━━━━━━━━━━━━━━━━━\u001b[0m\u001b[37m\u001b[0m \u001b[1m0s\u001b[0m 4ms/step - loss: 0.9419 \n",
            "Epoch 89/100\n",
            "\u001b[1m7/7\u001b[0m \u001b[32m━━━━━━━━━━━━━━━━━━━━\u001b[0m\u001b[37m\u001b[0m \u001b[1m0s\u001b[0m 4ms/step - loss: 1.0053 \n",
            "Epoch 90/100\n",
            "\u001b[1m7/7\u001b[0m \u001b[32m━━━━━━━━━━━━━━━━━━━━\u001b[0m\u001b[37m\u001b[0m \u001b[1m0s\u001b[0m 5ms/step - loss: 1.0756 \n",
            "Epoch 91/100\n",
            "\u001b[1m7/7\u001b[0m \u001b[32m━━━━━━━━━━━━━━━━━━━━\u001b[0m\u001b[37m\u001b[0m \u001b[1m0s\u001b[0m 4ms/step - loss: 0.9761 \n",
            "Epoch 92/100\n",
            "\u001b[1m7/7\u001b[0m \u001b[32m━━━━━━━━━━━━━━━━━━━━\u001b[0m\u001b[37m\u001b[0m \u001b[1m0s\u001b[0m 5ms/step - loss: 1.0127 \n",
            "Epoch 93/100\n",
            "\u001b[1m7/7\u001b[0m \u001b[32m━━━━━━━━━━━━━━━━━━━━\u001b[0m\u001b[37m\u001b[0m \u001b[1m0s\u001b[0m 4ms/step - loss: 1.0251 \n",
            "Epoch 94/100\n",
            "\u001b[1m7/7\u001b[0m \u001b[32m━━━━━━━━━━━━━━━━━━━━\u001b[0m\u001b[37m\u001b[0m \u001b[1m0s\u001b[0m 5ms/step - loss: 1.0231 \n",
            "Epoch 95/100\n",
            "\u001b[1m7/7\u001b[0m \u001b[32m━━━━━━━━━━━━━━━━━━━━\u001b[0m\u001b[37m\u001b[0m \u001b[1m0s\u001b[0m 5ms/step - loss: 1.0410 \n",
            "Epoch 96/100\n",
            "\u001b[1m7/7\u001b[0m \u001b[32m━━━━━━━━━━━━━━━━━━━━\u001b[0m\u001b[37m\u001b[0m \u001b[1m0s\u001b[0m 4ms/step - loss: 0.9575 \n",
            "Epoch 97/100\n",
            "\u001b[1m7/7\u001b[0m \u001b[32m━━━━━━━━━━━━━━━━━━━━\u001b[0m\u001b[37m\u001b[0m \u001b[1m0s\u001b[0m 4ms/step - loss: 1.0417 \n",
            "Epoch 98/100\n",
            "\u001b[1m7/7\u001b[0m \u001b[32m━━━━━━━━━━━━━━━━━━━━\u001b[0m\u001b[37m\u001b[0m \u001b[1m0s\u001b[0m 4ms/step - loss: 0.9455 \n",
            "Epoch 99/100\n",
            "\u001b[1m7/7\u001b[0m \u001b[32m━━━━━━━━━━━━━━━━━━━━\u001b[0m\u001b[37m\u001b[0m \u001b[1m0s\u001b[0m 5ms/step - loss: 1.0138 \n",
            "Epoch 100/100\n",
            "\u001b[1m7/7\u001b[0m \u001b[32m━━━━━━━━━━━━━━━━━━━━\u001b[0m\u001b[37m\u001b[0m \u001b[1m0s\u001b[0m 6ms/step - loss: 0.9817 \n"
          ]
        }
      ]
    },
    {
      "cell_type": "code",
      "source": [
        "# Guardamos el modelo entrenado en un archivo para su uso posterior.\n",
        "modelo_keras.save('./modelo_keras.keras')"
      ],
      "metadata": {
        "id": "qLADH6dqtRVX"
      },
      "execution_count": null,
      "outputs": []
    },
    {
      "cell_type": "code",
      "source": [
        "modelo_keras.summary()"
      ],
      "metadata": {
        "id": "DT1j_yg-aB7a",
        "colab": {
          "base_uri": "https://localhost:8080/",
          "height": 209
        },
        "outputId": "c17cd514-c04b-494a-c2e8-ff3a5d10b02d"
      },
      "execution_count": null,
      "outputs": [
        {
          "output_type": "display_data",
          "data": {
            "text/plain": [
              "\u001b[1mModel: \"sequential\"\u001b[0m\n"
            ],
            "text/html": [
              "<pre style=\"white-space:pre;overflow-x:auto;line-height:normal;font-family:Menlo,'DejaVu Sans Mono',consolas,'Courier New',monospace\"><span style=\"font-weight: bold\">Model: \"sequential\"</span>\n",
              "</pre>\n"
            ]
          },
          "metadata": {}
        },
        {
          "output_type": "display_data",
          "data": {
            "text/plain": [
              "┏━━━━━━━━━━━━━━━━━━━━━━━━━━━━━━━━━━━━━━┳━━━━━━━━━━━━━━━━━━━━━━━━━━━━━┳━━━━━━━━━━━━━━━━━┓\n",
              "┃\u001b[1m \u001b[0m\u001b[1mLayer (type)                        \u001b[0m\u001b[1m \u001b[0m┃\u001b[1m \u001b[0m\u001b[1mOutput Shape               \u001b[0m\u001b[1m \u001b[0m┃\u001b[1m \u001b[0m\u001b[1m        Param #\u001b[0m\u001b[1m \u001b[0m┃\n",
              "┡━━━━━━━━━━━━━━━━━━━━━━━━━━━━━━━━━━━━━━╇━━━━━━━━━━━━━━━━━━━━━━━━━━━━━╇━━━━━━━━━━━━━━━━━┩\n",
              "│ lambda (\u001b[38;5;33mLambda\u001b[0m)                      │ (\u001b[38;5;45mNone\u001b[0m, \u001b[38;5;34m2\u001b[0m)                   │               \u001b[38;5;34m0\u001b[0m │\n",
              "├──────────────────────────────────────┼─────────────────────────────┼─────────────────┤\n",
              "│ dense (\u001b[38;5;33mDense\u001b[0m)                        │ (\u001b[38;5;45mNone\u001b[0m, \u001b[38;5;34m1\u001b[0m)                   │               \u001b[38;5;34m3\u001b[0m │\n",
              "└──────────────────────────────────────┴─────────────────────────────┴─────────────────┘\n"
            ],
            "text/html": [
              "<pre style=\"white-space:pre;overflow-x:auto;line-height:normal;font-family:Menlo,'DejaVu Sans Mono',consolas,'Courier New',monospace\">┏━━━━━━━━━━━━━━━━━━━━━━━━━━━━━━━━━━━━━━┳━━━━━━━━━━━━━━━━━━━━━━━━━━━━━┳━━━━━━━━━━━━━━━━━┓\n",
              "┃<span style=\"font-weight: bold\"> Layer (type)                         </span>┃<span style=\"font-weight: bold\"> Output Shape                </span>┃<span style=\"font-weight: bold\">         Param # </span>┃\n",
              "┡━━━━━━━━━━━━━━━━━━━━━━━━━━━━━━━━━━━━━━╇━━━━━━━━━━━━━━━━━━━━━━━━━━━━━╇━━━━━━━━━━━━━━━━━┩\n",
              "│ lambda (<span style=\"color: #0087ff; text-decoration-color: #0087ff\">Lambda</span>)                      │ (<span style=\"color: #00d7ff; text-decoration-color: #00d7ff\">None</span>, <span style=\"color: #00af00; text-decoration-color: #00af00\">2</span>)                   │               <span style=\"color: #00af00; text-decoration-color: #00af00\">0</span> │\n",
              "├──────────────────────────────────────┼─────────────────────────────┼─────────────────┤\n",
              "│ dense (<span style=\"color: #0087ff; text-decoration-color: #0087ff\">Dense</span>)                        │ (<span style=\"color: #00d7ff; text-decoration-color: #00d7ff\">None</span>, <span style=\"color: #00af00; text-decoration-color: #00af00\">1</span>)                   │               <span style=\"color: #00af00; text-decoration-color: #00af00\">3</span> │\n",
              "└──────────────────────────────────────┴─────────────────────────────┴─────────────────┘\n",
              "</pre>\n"
            ]
          },
          "metadata": {}
        },
        {
          "output_type": "display_data",
          "data": {
            "text/plain": [
              "\u001b[1m Total params: \u001b[0m\u001b[38;5;34m5\u001b[0m (24.00 B)\n"
            ],
            "text/html": [
              "<pre style=\"white-space:pre;overflow-x:auto;line-height:normal;font-family:Menlo,'DejaVu Sans Mono',consolas,'Courier New',monospace\"><span style=\"font-weight: bold\"> Total params: </span><span style=\"color: #00af00; text-decoration-color: #00af00\">5</span> (24.00 B)\n",
              "</pre>\n"
            ]
          },
          "metadata": {}
        },
        {
          "output_type": "display_data",
          "data": {
            "text/plain": [
              "\u001b[1m Trainable params: \u001b[0m\u001b[38;5;34m3\u001b[0m (12.00 B)\n"
            ],
            "text/html": [
              "<pre style=\"white-space:pre;overflow-x:auto;line-height:normal;font-family:Menlo,'DejaVu Sans Mono',consolas,'Courier New',monospace\"><span style=\"font-weight: bold\"> Trainable params: </span><span style=\"color: #00af00; text-decoration-color: #00af00\">3</span> (12.00 B)\n",
              "</pre>\n"
            ]
          },
          "metadata": {}
        },
        {
          "output_type": "display_data",
          "data": {
            "text/plain": [
              "\u001b[1m Non-trainable params: \u001b[0m\u001b[38;5;34m0\u001b[0m (0.00 B)\n"
            ],
            "text/html": [
              "<pre style=\"white-space:pre;overflow-x:auto;line-height:normal;font-family:Menlo,'DejaVu Sans Mono',consolas,'Courier New',monospace\"><span style=\"font-weight: bold\"> Non-trainable params: </span><span style=\"color: #00af00; text-decoration-color: #00af00\">0</span> (0.00 B)\n",
              "</pre>\n"
            ]
          },
          "metadata": {}
        },
        {
          "output_type": "display_data",
          "data": {
            "text/plain": [
              "\u001b[1m Optimizer params: \u001b[0m\u001b[38;5;34m2\u001b[0m (12.00 B)\n"
            ],
            "text/html": [
              "<pre style=\"white-space:pre;overflow-x:auto;line-height:normal;font-family:Menlo,'DejaVu Sans Mono',consolas,'Courier New',monospace\"><span style=\"font-weight: bold\"> Optimizer params: </span><span style=\"color: #00af00; text-decoration-color: #00af00\">2</span> (12.00 B)\n",
              "</pre>\n"
            ]
          },
          "metadata": {}
        }
      ]
    },
    {
      "cell_type": "markdown",
      "source": [
        "Vamos a predecir un conjunto de valores"
      ],
      "metadata": {
        "id": "-X821_TGaF8B"
      }
    },
    {
      "cell_type": "code",
      "source": [
        "# Realizamos predicciones utilizando el modelo entrenado con los datos de entrada x.\n",
        "predicciones = modelo_keras.predict(x)\n",
        "\n",
        "# Las predicciones son una lista de valores de salida generados por el modelo.\n"
      ],
      "metadata": {
        "id": "oZqvEy9baJLo",
        "colab": {
          "base_uri": "https://localhost:8080/"
        },
        "outputId": "bbe7fb1b-93d5-4519-ce71-60311e5ed6da"
      },
      "execution_count": null,
      "outputs": [
        {
          "output_type": "stream",
          "name": "stdout",
          "text": [
            "\u001b[1m7/7\u001b[0m \u001b[32m━━━━━━━━━━━━━━━━━━━━\u001b[0m\u001b[37m\u001b[0m \u001b[1m0s\u001b[0m 18ms/step\n"
          ]
        }
      ]
    },
    {
      "cell_type": "code",
      "source": [
        "predicciones"
      ],
      "metadata": {
        "id": "9vYWXiDMajj3",
        "colab": {
          "base_uri": "https://localhost:8080/"
        },
        "outputId": "f125a2b7-6c0c-479e-d279-6e34d803bc58"
      },
      "execution_count": null,
      "outputs": [
        {
          "output_type": "execute_result",
          "data": {
            "text/plain": [
              "array([[-5.078738  ],\n",
              "       [-5.119605  ],\n",
              "       [-5.1596546 ],\n",
              "       [-5.1988864 ],\n",
              "       [-5.237301  ],\n",
              "       [-5.2748976 ],\n",
              "       [-5.311677  ],\n",
              "       [-5.3476386 ],\n",
              "       [-5.382783  ],\n",
              "       [-5.4171095 ],\n",
              "       [-5.4506187 ],\n",
              "       [-5.4833097 ],\n",
              "       [-5.515184  ],\n",
              "       [-5.5462403 ],\n",
              "       [-5.576479  ],\n",
              "       [-5.605901  ],\n",
              "       [-5.6345043 ],\n",
              "       [-5.6622906 ],\n",
              "       [-5.6892595 ],\n",
              "       [-5.7154107 ],\n",
              "       [-5.740744  ],\n",
              "       [-5.76526   ],\n",
              "       [-5.788959  ],\n",
              "       [-5.81184   ],\n",
              "       [-5.8339033 ],\n",
              "       [-5.8551493 ],\n",
              "       [-5.8755774 ],\n",
              "       [-5.8951883 ],\n",
              "       [-5.9139814 ],\n",
              "       [-5.9319572 ],\n",
              "       [-5.9491158 ],\n",
              "       [-5.965456  ],\n",
              "       [-5.980979  ],\n",
              "       [-5.9956846 ],\n",
              "       [-6.0095725 ],\n",
              "       [-6.022643  ],\n",
              "       [-6.034896  ],\n",
              "       [-6.0463314 ],\n",
              "       [-6.056949  ],\n",
              "       [-6.0667496 ],\n",
              "       [-6.075732  ],\n",
              "       [-6.0838976 ],\n",
              "       [-6.091245  ],\n",
              "       [-6.097775  ],\n",
              "       [-6.1034875 ],\n",
              "       [-6.108383  ],\n",
              "       [-6.11246   ],\n",
              "       [-6.1157203 ],\n",
              "       [-6.1181626 ],\n",
              "       [-6.119787  ],\n",
              "       [-6.1205945 ],\n",
              "       [-6.1205845 ],\n",
              "       [-6.1197567 ],\n",
              "       [-6.118111  ],\n",
              "       [-6.1156483 ],\n",
              "       [-6.1123676 ],\n",
              "       [-6.1082697 ],\n",
              "       [-6.1033545 ],\n",
              "       [-6.0976214 ],\n",
              "       [-6.0910707 ],\n",
              "       [-6.0837026 ],\n",
              "       [-6.0755167 ],\n",
              "       [-6.0665135 ],\n",
              "       [-6.0566926 ],\n",
              "       [-6.0460544 ],\n",
              "       [-6.0345984 ],\n",
              "       [-6.022325  ],\n",
              "       [-6.009234  ],\n",
              "       [-5.9953256 ],\n",
              "       [-5.9805994 ],\n",
              "       [-5.965056  ],\n",
              "       [-5.9486947 ],\n",
              "       [-5.931516  ],\n",
              "       [-5.91352   ],\n",
              "       [-5.894706  ],\n",
              "       [-5.875075  ],\n",
              "       [-5.8546257 ],\n",
              "       [-5.8333592 ],\n",
              "       [-5.8112755 ],\n",
              "       [-5.788374  ],\n",
              "       [-5.764655  ],\n",
              "       [-5.740118  ],\n",
              "       [-5.714764  ],\n",
              "       [-5.6885924 ],\n",
              "       [-5.661603  ],\n",
              "       [-5.6337967 ],\n",
              "       [-5.605172  ],\n",
              "       [-5.5757303 ],\n",
              "       [-5.5454707 ],\n",
              "       [-5.514394  ],\n",
              "       [-5.4824996 ],\n",
              "       [-5.449787  ],\n",
              "       [-5.416258  ],\n",
              "       [-5.381911  ],\n",
              "       [-5.346746  ],\n",
              "       [-5.310764  ],\n",
              "       [-5.273964  ],\n",
              "       [-5.2363467 ],\n",
              "       [-5.1979117 ],\n",
              "       [-5.1586595 ],\n",
              "       [-5.1185894 ],\n",
              "       [-5.077702  ],\n",
              "       [-5.035997  ],\n",
              "       [-4.9934745 ],\n",
              "       [-4.9501343 ],\n",
              "       [-4.9059763 ],\n",
              "       [-4.8610015 ],\n",
              "       [-4.8152084 ],\n",
              "       [-4.768598  ],\n",
              "       [-4.7211704 ],\n",
              "       [-4.672925  ],\n",
              "       [-4.6238623 ],\n",
              "       [-4.573982  ],\n",
              "       [-4.5232835 ],\n",
              "       [-4.471768  ],\n",
              "       [-4.4194345 ],\n",
              "       [-4.3662844 ],\n",
              "       [-4.312316  ],\n",
              "       [-4.25753   ],\n",
              "       [-4.201927  ],\n",
              "       [-4.145506  ],\n",
              "       [-4.088268  ],\n",
              "       [-4.030212  ],\n",
              "       [-3.9713383 ],\n",
              "       [-3.9116473 ],\n",
              "       [-3.8511386 ],\n",
              "       [-3.7898126 ],\n",
              "       [-3.7276688 ],\n",
              "       [-3.6647077 ],\n",
              "       [-3.600929  ],\n",
              "       [-3.5363326 ],\n",
              "       [-3.4709187 ],\n",
              "       [-3.4046874 ],\n",
              "       [-3.3376384 ],\n",
              "       [-3.269772  ],\n",
              "       [-3.2010882 ],\n",
              "       [-3.1315866 ],\n",
              "       [-3.0612674 ],\n",
              "       [-2.990131  ],\n",
              "       [-2.9181767 ],\n",
              "       [-2.8454049 ],\n",
              "       [-2.7718155 ],\n",
              "       [-2.6974087 ],\n",
              "       [-2.6221843 ],\n",
              "       [-2.5461426 ],\n",
              "       [-2.469283  ],\n",
              "       [-2.3916059 ],\n",
              "       [-2.3131113 ],\n",
              "       [-2.2337995 ],\n",
              "       [-2.1536696 ],\n",
              "       [-2.0727224 ],\n",
              "       [-1.990958  ],\n",
              "       [-1.9083757 ],\n",
              "       [-1.824976  ],\n",
              "       [-1.7407582 ],\n",
              "       [-1.6557233 ],\n",
              "       [-1.569871  ],\n",
              "       [-1.483201  ],\n",
              "       [-1.3957138 ],\n",
              "       [-1.3074088 ],\n",
              "       [-1.2182856 ],\n",
              "       [-1.1283455 ],\n",
              "       [-1.0375876 ],\n",
              "       [-0.9460125 ],\n",
              "       [-0.8536196 ],\n",
              "       [-0.76040983],\n",
              "       [-0.66638136],\n",
              "       [-0.57153606],\n",
              "       [-0.475873  ],\n",
              "       [-0.37939262],\n",
              "       [-0.28209496],\n",
              "       [-0.18397903],\n",
              "       [-0.08504581],\n",
              "       [ 0.01470518],\n",
              "       [ 0.11527348],\n",
              "       [ 0.21665859],\n",
              "       [ 0.31886196],\n",
              "       [ 0.42188263],\n",
              "       [ 0.5257211 ],\n",
              "       [ 0.63037777],\n",
              "       [ 0.7358513 ],\n",
              "       [ 0.8421421 ],\n",
              "       [ 0.9492512 ],\n",
              "       [ 1.0571766 ],\n",
              "       [ 1.1659203 ],\n",
              "       [ 1.2754822 ],\n",
              "       [ 1.3858604 ],\n",
              "       [ 1.497057  ],\n",
              "       [ 1.6090708 ],\n",
              "       [ 1.7219019 ],\n",
              "       [ 1.8355513 ],\n",
              "       [ 1.9500179 ],\n",
              "       [ 2.065302  ],\n",
              "       [ 2.1814036 ],\n",
              "       [ 2.2983227 ],\n",
              "       [ 2.416059  ],\n",
              "       [ 2.5346136 ],\n",
              "       [ 2.6539855 ],\n",
              "       [ 2.7741747 ],\n",
              "       [ 2.8951817 ],\n",
              "       [ 3.017006  ]], dtype=float32)"
            ]
          },
          "metadata": {},
          "execution_count": 50
        }
      ]
    },
    {
      "cell_type": "code",
      "source": [
        "  # Graficar los datos reales (con ruido) usando puntos\n",
        "  plt.plot(x, y, '.', label='Data')  # 'x' es la entrada y 'y' son los datos generados con ruido\n",
        "\n",
        "  # Graficar la \"verdad fundamental\" (la función sin ruido) con una línea\n",
        "  plt.plot(x, f(x), label='Ground truth')  # 'f(x)' es la función cuadrática original sin ruido\n",
        "\n",
        "  # Graficar las predicciones del modelo usando una línea\n",
        "  plt.plot(x, predicciones, label='Predictions')  #son las predicciones del modelo entrenado\n",
        "\n",
        "  # Añadir un título al gráfico\n",
        "  plt.title(\"Modelo entrenado con Keras\")  # El título se pasa como argumento a la función\n",
        "\n",
        "  # Mostrar la leyenda para identificar las diferentes líneas\n",
        "  plt.legend()\n"
      ],
      "metadata": {
        "id": "qo6iq2ivamTv",
        "colab": {
          "base_uri": "https://localhost:8080/",
          "height": 562
        },
        "outputId": "94fa6ac8-339a-4248-9f0e-2a08a4130fdb"
      },
      "execution_count": null,
      "outputs": [
        {
          "output_type": "execute_result",
          "data": {
            "text/plain": [
              "<matplotlib.legend.Legend at 0x7f5fe0d66a50>"
            ]
          },
          "metadata": {},
          "execution_count": 51
        },
        {
          "output_type": "display_data",
          "data": {
            "text/plain": [
              "<Figure size 900x600 with 1 Axes>"
            ],
            "image/png": "[encoded data removed]"
          },
          "metadata": {}
        }
      ]
    }
  ]
}